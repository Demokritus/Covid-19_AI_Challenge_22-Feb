{
 "cells": [
  {
   "cell_type": "code",
   "execution_count": 2,
   "id": "thirty-webcam",
   "metadata": {},
   "outputs": [],
   "source": [
    "import pandas as pd"
   ]
  },
  {
   "cell_type": "code",
   "execution_count": 15,
   "id": "adverse-titanium",
   "metadata": {},
   "outputs": [],
   "source": [
    "from Bio.PDB import PDBParser\n",
    "from Bio.PDB import parse_pdb_header\n",
    "# import xpdb  # this is the module described below"
   ]
  },
  {
   "cell_type": "code",
   "execution_count": 11,
   "id": "adult-ministry",
   "metadata": {},
   "outputs": [],
   "source": [
    "from Bio import SeqIO"
   ]
  },
  {
   "cell_type": "code",
   "execution_count": 3,
   "id": "authentic-dating",
   "metadata": {},
   "outputs": [],
   "source": [
    "train_csv = pd.read_csv('Task/train.csv')"
   ]
  },
  {
   "cell_type": "code",
   "execution_count": 6,
   "id": "deluxe-canadian",
   "metadata": {},
   "outputs": [
    {
     "data": {
      "text/plain": [
       "Index(['Unnamed: 0', 'Smiles', 'Active'], dtype='object')"
      ]
     },
     "execution_count": 6,
     "metadata": {},
     "output_type": "execute_result"
    }
   ],
   "source": [
    "train_csv.columns"
   ]
  },
  {
   "cell_type": "code",
   "execution_count": 7,
   "id": "amended-voice",
   "metadata": {
    "scrolled": true
   },
   "outputs": [
    {
     "data": {
      "text/html": [
       "<div>\n",
       "<style scoped>\n",
       "    .dataframe tbody tr th:only-of-type {\n",
       "        vertical-align: middle;\n",
       "    }\n",
       "\n",
       "    .dataframe tbody tr th {\n",
       "        vertical-align: top;\n",
       "    }\n",
       "\n",
       "    .dataframe thead th {\n",
       "        text-align: right;\n",
       "    }\n",
       "</style>\n",
       "<table border=\"1\" class=\"dataframe\">\n",
       "  <thead>\n",
       "    <tr style=\"text-align: right;\">\n",
       "      <th></th>\n",
       "      <th>Unnamed: 0</th>\n",
       "      <th>Smiles</th>\n",
       "      <th>Active</th>\n",
       "    </tr>\n",
       "  </thead>\n",
       "  <tbody>\n",
       "    <tr>\n",
       "      <th>0</th>\n",
       "      <td>0</td>\n",
       "      <td>COc1ccc2[nH]cc(CCN)c2c1</td>\n",
       "      <td>False</td>\n",
       "    </tr>\n",
       "    <tr>\n",
       "      <th>1</th>\n",
       "      <td>1</td>\n",
       "      <td>CCCN1CCC[C@H](c2cccc(O)c2)C1.Cl</td>\n",
       "      <td>False</td>\n",
       "    </tr>\n",
       "    <tr>\n",
       "      <th>2</th>\n",
       "      <td>2</td>\n",
       "      <td>O=C(NO)c1cnc(N2CCN(S(=O)(=O)c3ccc4ccccc4c3)CC2...</td>\n",
       "      <td>False</td>\n",
       "    </tr>\n",
       "    <tr>\n",
       "      <th>3</th>\n",
       "      <td>3</td>\n",
       "      <td>Nc1cccc(CNC(=O)c2ccc(Oc3ccc(OCc4cccc(F)c4)cc3)...</td>\n",
       "      <td>False</td>\n",
       "    </tr>\n",
       "    <tr>\n",
       "      <th>4</th>\n",
       "      <td>4</td>\n",
       "      <td>Fc1ccccc1CNCc1ccc(-c2ccnc3[nH]ccc23)cc1</td>\n",
       "      <td>False</td>\n",
       "    </tr>\n",
       "    <tr>\n",
       "      <th>...</th>\n",
       "      <td>...</td>\n",
       "      <td>...</td>\n",
       "      <td>...</td>\n",
       "    </tr>\n",
       "    <tr>\n",
       "      <th>5552</th>\n",
       "      <td>5552</td>\n",
       "      <td>O=C(Oc1ccc([N+](=O)[O-])cc1)N1CCC(C(O)(c2ccc3c...</td>\n",
       "      <td>False</td>\n",
       "    </tr>\n",
       "    <tr>\n",
       "      <th>5553</th>\n",
       "      <td>5553</td>\n",
       "      <td>Nc1nonc1/C(=N/O)Nc1ccc(F)c(Br)c1</td>\n",
       "      <td>False</td>\n",
       "    </tr>\n",
       "    <tr>\n",
       "      <th>5554</th>\n",
       "      <td>5554</td>\n",
       "      <td>Oc1cccc2cccnc12</td>\n",
       "      <td>False</td>\n",
       "    </tr>\n",
       "    <tr>\n",
       "      <th>5555</th>\n",
       "      <td>5555</td>\n",
       "      <td>OC(c1ccc(-c2ccc(CN3CCN(Cc4ccncc4)CC3)cc2)c(F)c...</td>\n",
       "      <td>False</td>\n",
       "    </tr>\n",
       "    <tr>\n",
       "      <th>5556</th>\n",
       "      <td>5556</td>\n",
       "      <td>CCCCNc1ccc(C(=O)OCCN(C)C)cc1.Cl</td>\n",
       "      <td>False</td>\n",
       "    </tr>\n",
       "  </tbody>\n",
       "</table>\n",
       "<p>5557 rows × 3 columns</p>\n",
       "</div>"
      ],
      "text/plain": [
       "      Unnamed: 0                                             Smiles  Active\n",
       "0              0                            COc1ccc2[nH]cc(CCN)c2c1   False\n",
       "1              1                    CCCN1CCC[C@H](c2cccc(O)c2)C1.Cl   False\n",
       "2              2  O=C(NO)c1cnc(N2CCN(S(=O)(=O)c3ccc4ccccc4c3)CC2...   False\n",
       "3              3  Nc1cccc(CNC(=O)c2ccc(Oc3ccc(OCc4cccc(F)c4)cc3)...   False\n",
       "4              4            Fc1ccccc1CNCc1ccc(-c2ccnc3[nH]ccc23)cc1   False\n",
       "...          ...                                                ...     ...\n",
       "5552        5552  O=C(Oc1ccc([N+](=O)[O-])cc1)N1CCC(C(O)(c2ccc3c...   False\n",
       "5553        5553                   Nc1nonc1/C(=N/O)Nc1ccc(F)c(Br)c1   False\n",
       "5554        5554                                    Oc1cccc2cccnc12   False\n",
       "5555        5555  OC(c1ccc(-c2ccc(CN3CCN(Cc4ccncc4)CC3)cc2)c(F)c...   False\n",
       "5556        5556                    CCCCNc1ccc(C(=O)OCCN(C)C)cc1.Cl   False\n",
       "\n",
       "[5557 rows x 3 columns]"
      ]
     },
     "execution_count": 7,
     "metadata": {},
     "output_type": "execute_result"
    }
   ],
   "source": [
    "# looking at the content of csv train file\n",
    "train_csv"
   ]
  },
  {
   "cell_type": "code",
   "execution_count": 16,
   "id": "virtual-perfume",
   "metadata": {},
   "outputs": [],
   "source": [
    "# loading the head of PDB file as a dictionary\n",
    "# helpful to take a look at the description\n",
    "with open('Task/target.pdb', 'r') as pdb_file:\n",
    "    header_dict = parse_pdb_header(pdb_file)"
   ]
  },
  {
   "cell_type": "code",
   "execution_count": 17,
   "id": "norwegian-fiction",
   "metadata": {},
   "outputs": [
    {
     "data": {
      "text/plain": [
       "{'name': 'crystal structure of sars-cov-2 nsp3 macrodomain (c2 crystal form, 100 k)',\n",
       " 'head': 'viral protein',\n",
       " 'idcode': '7KR0',\n",
       " 'deposition_date': '2020-11-18',\n",
       " 'release_date': '2020-12-09',\n",
       " 'structure_method': 'x-ray diffraction',\n",
       " 'resolution': 0.77,\n",
       " 'structure_reference': [],\n",
       " 'journal_reference': \"m.schuller,g.j.correy,s.gahbauer,d.fearon,t.wu,r.e.dii.d.young,l.carvalho martins,d.h.smith,u.schulze-gahmt.w.owens,i.deshpande,g.e.merz,a.c.thwin,j.t.biel, j.k.peters,m.moritz,n.herrera,h.t.kratochvil,a.aimon,j.m.bennett,j.brandao neto,a.e.cohen,a.dias,a.douangal.dunnett,o.fedorov,m.p.ferla,m.r.fuchs,t.j.gorrie-stj.m.holton,m.g.johnson,t.krojer,g.meigs,a.j.powell, j.g.m.rack,v.l.rangel,s.russi,r.e.skyner,c.a.smith, a.s.soares,j.l.wierman,k.zhu,p.o'brien,n.jura,a.ashwoj.j.irwin,m.c.thompson,j.e.gestwicki,f.von delft, b.k.shoichet,j.s.fraser,i.ahel fragment binding to the nsp3 macrodomain of sars-cov-identified through crystallographic screening and computational docking. sci adv v. 7 2021 essn 2375-2548 33853786 10.1126/sciadv.abf8711 \",\n",
       " 'author': 'G.J.Correy,I.D.Young,M.C.Thompson,J.S.Fraser',\n",
       " 'compound': {'1': {'misc': '',\n",
       "   'molecule': 'non-structural protein 3',\n",
       "   'chain': 'a',\n",
       "   'fragment': 'macrodomain (unp residues 1024-1192)',\n",
       "   'synonym': 'nsp3,pl2-pro,papain-like protease,papain-like proteinase,pl-pro ',\n",
       "   'ec_number': '3.4.19.121',\n",
       "   'ec': '3.4.19.121, 3.4.22.-',\n",
       "   'engineered': 'yes'}},\n",
       " 'source': {'1': {'misc': '',\n",
       "   'organism_scientific': 'severe acute respiratory syndrome coronavirus2 ',\n",
       "   'organism_common': '2019-ncov',\n",
       "   'organism_taxid': '2697049',\n",
       "   'expression_system': 'escherichia coli bl21(de3)',\n",
       "   'expression_system_taxid': '469008'}},\n",
       " 'has_missing_residues': True,\n",
       " 'missing_residues': [{'model': None,\n",
       "   'res_name': 'SER',\n",
       "   'chain': 'A',\n",
       "   'ssseq': -2,\n",
       "   'insertion': None},\n",
       "  {'model': None,\n",
       "   'res_name': 'ASN',\n",
       "   'chain': 'A',\n",
       "   'ssseq': -1,\n",
       "   'insertion': None},\n",
       "  {'model': None,\n",
       "   'res_name': 'ALA',\n",
       "   'chain': 'A',\n",
       "   'ssseq': 0,\n",
       "   'insertion': None},\n",
       "  {'model': None,\n",
       "   'res_name': 'GLY',\n",
       "   'chain': 'A',\n",
       "   'ssseq': 1,\n",
       "   'insertion': None}],\n",
       " 'keywords': 'macrodomain, adp-ribose, sars-cov-2, viral protein',\n",
       " 'journal': \"AUTH   M.SCHULLER,G.J.CORREY,S.GAHBAUER,D.FEARON,T.WU,R.E.DIAZ,AUTH 2 I.D.YOUNG,L.CARVALHO MARTINS,D.H.SMITH,U.SCHULZE-GAHMEN,AUTH 3 T.W.OWENS,I.DESHPANDE,G.E.MERZ,A.C.THWIN,J.T.BIEL,AUTH 4 J.K.PETERS,M.MORITZ,N.HERRERA,H.T.KRATOCHVIL,A.AIMON,AUTH 5 J.M.BENNETT,J.BRANDAO NETO,A.E.COHEN,A.DIAS,A.DOUANGAMATH,AUTH 6 L.DUNNETT,O.FEDOROV,M.P.FERLA,M.R.FUCHS,T.J.GORRIE-STONE,AUTH 7 J.M.HOLTON,M.G.JOHNSON,T.KROJER,G.MEIGS,A.J.POWELL,AUTH 8 J.G.M.RACK,V.L.RANGEL,S.RUSSI,R.E.SKYNER,C.A.SMITH,AUTH 9 A.S.SOARES,J.L.WIERMAN,K.ZHU,P.O'BRIEN,N.JURA,A.ASHWORTH,AUTH10 J.J.IRWIN,M.C.THOMPSON,J.E.GESTWICKI,F.VON DELFT,AUTH11 B.K.SHOICHET,J.S.FRASER,I.AHELTITL   FRAGMENT BINDING TO THE NSP3 MACRODOMAIN OF SARS-COV-2TITL 2 IDENTIFIED THROUGH CRYSTALLOGRAPHIC SCREENING ANDTITL 3 COMPUTATIONAL DOCKING.REF    SCI ADV                       V.   7       2021REFN                   ESSN 2375-2548PMID   33853786DOI    10.1126/SCIADV.ABF8711\"}"
      ]
     },
     "execution_count": 17,
     "metadata": {},
     "output_type": "execute_result"
    }
   ],
   "source": [
    "# PDB header\n",
    "header_dict"
   ]
  },
  {
   "cell_type": "code",
   "execution_count": null,
   "id": "similar-robin",
   "metadata": {},
   "outputs": [],
   "source": []
  }
 ],
 "metadata": {
  "kernelspec": {
   "display_name": "Python 3",
   "language": "python",
   "name": "python3"
  },
  "language_info": {
   "codemirror_mode": {
    "name": "ipython",
    "version": 3
   },
   "file_extension": ".py",
   "mimetype": "text/x-python",
   "name": "python",
   "nbconvert_exporter": "python",
   "pygments_lexer": "ipython3",
   "version": "3.7.0"
  }
 },
 "nbformat": 4,
 "nbformat_minor": 5
}
