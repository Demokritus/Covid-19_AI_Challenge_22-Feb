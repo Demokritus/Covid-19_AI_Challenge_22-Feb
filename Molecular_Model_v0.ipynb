{
 "cells": [
  {
   "cell_type": "code",
   "execution_count": 46,
   "id": "thirty-webcam",
   "metadata": {},
   "outputs": [],
   "source": [
    "import pandas as pd\n",
    "import os"
   ]
  },
  {
   "cell_type": "code",
   "execution_count": 2,
   "id": "adverse-titanium",
   "metadata": {},
   "outputs": [],
   "source": [
    "from Bio.PDB import PDBParser\n",
    "from Bio.PDB import parse_pdb_header\n",
    "# import xpdb  # this is the module described below"
   ]
  },
  {
   "cell_type": "code",
   "execution_count": 3,
   "id": "adult-ministry",
   "metadata": {},
   "outputs": [],
   "source": [
    "from Bio import SeqIO"
   ]
  },
  {
   "cell_type": "code",
   "execution_count": 4,
   "id": "popular-security",
   "metadata": {},
   "outputs": [
    {
     "ename": "ModuleNotFoundError",
     "evalue": "No module named 'nglview'",
     "output_type": "error",
     "traceback": [
      "\u001b[0;31m---------------------------------------------------------------------------\u001b[0m",
      "\u001b[0;31mModuleNotFoundError\u001b[0m                       Traceback (most recent call last)",
      "\u001b[0;32m/scratch/gsergei/ipykernel_104131/1675429523.py\u001b[0m in \u001b[0;36m<module>\u001b[0;34m\u001b[0m\n\u001b[0;32m----> 1\u001b[0;31m \u001b[0;32mimport\u001b[0m \u001b[0mnglview\u001b[0m\u001b[0;34m\u001b[0m\u001b[0;34m\u001b[0m\u001b[0m\n\u001b[0m",
      "\u001b[0;31mModuleNotFoundError\u001b[0m: No module named 'nglview'"
     ]
    }
   ],
   "source": [
    "import nglview"
   ]
  },
  {
   "cell_type": "code",
   "execution_count": 5,
   "id": "authentic-dating",
   "metadata": {},
   "outputs": [],
   "source": [
    "train_csv = pd.read_csv('Task/train.csv')"
   ]
  },
  {
   "cell_type": "code",
   "execution_count": 6,
   "id": "cooperative-madonna",
   "metadata": {},
   "outputs": [],
   "source": [
    "test_csv = pd.read_csv('Task/test.csv')"
   ]
  },
  {
   "cell_type": "code",
   "execution_count": 7,
   "id": "deluxe-canadian",
   "metadata": {},
   "outputs": [
    {
     "data": {
      "text/plain": [
       "Index(['Unnamed: 0', 'Smiles', 'Active'], dtype='object')"
      ]
     },
     "execution_count": 7,
     "metadata": {},
     "output_type": "execute_result"
    }
   ],
   "source": [
    "train_csv.columns"
   ]
  },
  {
   "cell_type": "code",
   "execution_count": 8,
   "id": "amended-voice",
   "metadata": {
    "scrolled": true
   },
   "outputs": [
    {
     "data": {
      "text/html": [
       "<div>\n",
       "<style scoped>\n",
       "    .dataframe tbody tr th:only-of-type {\n",
       "        vertical-align: middle;\n",
       "    }\n",
       "\n",
       "    .dataframe tbody tr th {\n",
       "        vertical-align: top;\n",
       "    }\n",
       "\n",
       "    .dataframe thead th {\n",
       "        text-align: right;\n",
       "    }\n",
       "</style>\n",
       "<table border=\"1\" class=\"dataframe\">\n",
       "  <thead>\n",
       "    <tr style=\"text-align: right;\">\n",
       "      <th></th>\n",
       "      <th>Unnamed: 0</th>\n",
       "      <th>Smiles</th>\n",
       "      <th>Active</th>\n",
       "    </tr>\n",
       "  </thead>\n",
       "  <tbody>\n",
       "    <tr>\n",
       "      <th>17</th>\n",
       "      <td>17</td>\n",
       "      <td>Nc1ccc(O)c2ncccc12</td>\n",
       "      <td>True</td>\n",
       "    </tr>\n",
       "    <tr>\n",
       "      <th>38</th>\n",
       "      <td>38</td>\n",
       "      <td>C[C@H]1COc2c(N3CCN(C)CC3)c(F)cc3c(=O)c(C(=O)O)...</td>\n",
       "      <td>True</td>\n",
       "    </tr>\n",
       "    <tr>\n",
       "      <th>52</th>\n",
       "      <td>52</td>\n",
       "      <td>Cl.NCCc1cc(O)c(O)cc1O</td>\n",
       "      <td>True</td>\n",
       "    </tr>\n",
       "    <tr>\n",
       "      <th>111</th>\n",
       "      <td>111</td>\n",
       "      <td>Cc1ccc(-n2sc(=O)n(Cc3ccc(F)cc3)c2=O)cc1</td>\n",
       "      <td>True</td>\n",
       "    </tr>\n",
       "    <tr>\n",
       "      <th>122</th>\n",
       "      <td>122</td>\n",
       "      <td>Oc1cc2c(cc1C(c1ccc(C(F)(F)F)cc1)N1CCOCC1)OCO2</td>\n",
       "      <td>True</td>\n",
       "    </tr>\n",
       "    <tr>\n",
       "      <th>139</th>\n",
       "      <td>139</td>\n",
       "      <td>CN1CCC(CNc2ccc3ncc(-c4cccc(OC(F)(F)F)c4)n3n2)CC1</td>\n",
       "      <td>True</td>\n",
       "    </tr>\n",
       "    <tr>\n",
       "      <th>166</th>\n",
       "      <td>166</td>\n",
       "      <td>CC(Cc1ccc(O)c(O)c1)C(C)Cc1ccc(O)c(O)c1</td>\n",
       "      <td>True</td>\n",
       "    </tr>\n",
       "    <tr>\n",
       "      <th>167</th>\n",
       "      <td>167</td>\n",
       "      <td>O=C(NCC(=O)N1CCCC1)Nc1ccc2cnccc2c1</td>\n",
       "      <td>True</td>\n",
       "    </tr>\n",
       "    <tr>\n",
       "      <th>174</th>\n",
       "      <td>174</td>\n",
       "      <td>CC[C@@H](C)Nc1cc(C(=O)NC2CC3CCC(C2)N3c2ccc(C(=...</td>\n",
       "      <td>True</td>\n",
       "    </tr>\n",
       "    <tr>\n",
       "      <th>179</th>\n",
       "      <td>179</td>\n",
       "      <td>C[N+]1(C)[C@H]2C[C@H](OC(=O)[C@H](CO)c3ccccc3)...</td>\n",
       "      <td>True</td>\n",
       "    </tr>\n",
       "    <tr>\n",
       "      <th>271</th>\n",
       "      <td>271</td>\n",
       "      <td>Sc1nnnn1-c1ccccc1</td>\n",
       "      <td>True</td>\n",
       "    </tr>\n",
       "    <tr>\n",
       "      <th>289</th>\n",
       "      <td>289</td>\n",
       "      <td>O=c1sn(-c2cccc3ccccc23)c(=O)n1Cc1ccccc1</td>\n",
       "      <td>True</td>\n",
       "    </tr>\n",
       "    <tr>\n",
       "      <th>298</th>\n",
       "      <td>298</td>\n",
       "      <td>CCn1c(=O)c(-c2cc[nH]n2)cc2c(C)nc(N)nc21</td>\n",
       "      <td>True</td>\n",
       "    </tr>\n",
       "    <tr>\n",
       "      <th>310</th>\n",
       "      <td>310</td>\n",
       "      <td>[O-]n1ccccc1=S.[O-]n1ccccc1=S.[Zn+2]</td>\n",
       "      <td>True</td>\n",
       "    </tr>\n",
       "    <tr>\n",
       "      <th>376</th>\n",
       "      <td>376</td>\n",
       "      <td>COc1c(Cl)cc2c([nH]c3cnccc32)c1NC(=O)c1cccnc1C</td>\n",
       "      <td>True</td>\n",
       "    </tr>\n",
       "    <tr>\n",
       "      <th>397</th>\n",
       "      <td>397</td>\n",
       "      <td>COc1cc(OC)c2ccc(=O)oc2c1</td>\n",
       "      <td>True</td>\n",
       "    </tr>\n",
       "    <tr>\n",
       "      <th>437</th>\n",
       "      <td>437</td>\n",
       "      <td>N#CCC1(n2cc(-c3ncnc4[nH]ccc34)cn2)CN(C2CCN(C(=...</td>\n",
       "      <td>True</td>\n",
       "    </tr>\n",
       "    <tr>\n",
       "      <th>470</th>\n",
       "      <td>470</td>\n",
       "      <td>CCCCOCCOc1nc(-c2ccc(C(=O)O)c(F)c2)sc1C</td>\n",
       "      <td>True</td>\n",
       "    </tr>\n",
       "    <tr>\n",
       "      <th>475</th>\n",
       "      <td>475</td>\n",
       "      <td>CCN(CC)c1ccc(C(=C2C=CC(=[N+](CC)CC)C=C2)c2cccc...</td>\n",
       "      <td>True</td>\n",
       "    </tr>\n",
       "    <tr>\n",
       "      <th>477</th>\n",
       "      <td>477</td>\n",
       "      <td>CC(=O)Nc1ccc(CC(=O)O)cc1</td>\n",
       "      <td>True</td>\n",
       "    </tr>\n",
       "    <tr>\n",
       "      <th>487</th>\n",
       "      <td>487</td>\n",
       "      <td>O=c1ccc2ccc(O)cc2o1</td>\n",
       "      <td>True</td>\n",
       "    </tr>\n",
       "    <tr>\n",
       "      <th>497</th>\n",
       "      <td>497</td>\n",
       "      <td>CCOc1ccc(Nc2nc(-c3c(C)nc4ccccn34)cs2)cc1</td>\n",
       "      <td>True</td>\n",
       "    </tr>\n",
       "    <tr>\n",
       "      <th>525</th>\n",
       "      <td>525</td>\n",
       "      <td>CCC1=C[C@@H]2CN(C1)Cc1c([nH]c3ccccc13)[C@@](C(...</td>\n",
       "      <td>True</td>\n",
       "    </tr>\n",
       "    <tr>\n",
       "      <th>550</th>\n",
       "      <td>550</td>\n",
       "      <td>O=C(O)[C@H]1O[C@@H](Oc2cc3oc(-c4ccccc4)cc(=O)c...</td>\n",
       "      <td>True</td>\n",
       "    </tr>\n",
       "    <tr>\n",
       "      <th>558</th>\n",
       "      <td>558</td>\n",
       "      <td>O=c1c(O)cccc2cc(O)c(O)c(O)c12</td>\n",
       "      <td>True</td>\n",
       "    </tr>\n",
       "    <tr>\n",
       "      <th>625</th>\n",
       "      <td>625</td>\n",
       "      <td>CC(CN1CC(=O)NC(=O)C1)N1CC(=O)NC(=O)C1</td>\n",
       "      <td>True</td>\n",
       "    </tr>\n",
       "    <tr>\n",
       "      <th>629</th>\n",
       "      <td>629</td>\n",
       "      <td>Cn1c(=O)c(Oc2ccc(F)cc2F)cc2cnc(NC3CCOCC3)nc21</td>\n",
       "      <td>True</td>\n",
       "    </tr>\n",
       "    <tr>\n",
       "      <th>665</th>\n",
       "      <td>665</td>\n",
       "      <td>S=c1[nH]nc(-c2ccccc2)o1</td>\n",
       "      <td>True</td>\n",
       "    </tr>\n",
       "    <tr>\n",
       "      <th>672</th>\n",
       "      <td>672</td>\n",
       "      <td>C=C1C(=O)[C@]23[C@H](O)[C@H]1CC[C@@H]2[C@@]12C...</td>\n",
       "      <td>True</td>\n",
       "    </tr>\n",
       "    <tr>\n",
       "      <th>678</th>\n",
       "      <td>678</td>\n",
       "      <td>Cc1cn2c(N)c(Cl)cc(C(=O)NCC3CCN(CC(C)C)CC3)c2n1</td>\n",
       "      <td>True</td>\n",
       "    </tr>\n",
       "    <tr>\n",
       "      <th>...</th>\n",
       "      <td>...</td>\n",
       "      <td>...</td>\n",
       "      <td>...</td>\n",
       "    </tr>\n",
       "    <tr>\n",
       "      <th>4829</th>\n",
       "      <td>4829</td>\n",
       "      <td>COc1ccc2[nH]c(S)nc2c1</td>\n",
       "      <td>True</td>\n",
       "    </tr>\n",
       "    <tr>\n",
       "      <th>4838</th>\n",
       "      <td>4838</td>\n",
       "      <td>c1ccc2sc(SSc3nc4ccccc4s3)nc2c1</td>\n",
       "      <td>True</td>\n",
       "    </tr>\n",
       "    <tr>\n",
       "      <th>4860</th>\n",
       "      <td>4860</td>\n",
       "      <td>Br.Oc1cc2c(cc1O)C(c1ccccc1)CNCC2</td>\n",
       "      <td>True</td>\n",
       "    </tr>\n",
       "    <tr>\n",
       "      <th>4873</th>\n",
       "      <td>4873</td>\n",
       "      <td>O=C(O)c1ccc(SSc2ccc(C(=O)O)cn2)nc1</td>\n",
       "      <td>True</td>\n",
       "    </tr>\n",
       "    <tr>\n",
       "      <th>4897</th>\n",
       "      <td>4897</td>\n",
       "      <td>CC[N+](CC)(CC)CCOc1cccc(OCC[N+](CC)(CC)CC)c1OC...</td>\n",
       "      <td>True</td>\n",
       "    </tr>\n",
       "    <tr>\n",
       "      <th>4905</th>\n",
       "      <td>4905</td>\n",
       "      <td>Oc1cc2c(cc1O)[C@H](Cc1cccc3ccccc13)NCC2</td>\n",
       "      <td>True</td>\n",
       "    </tr>\n",
       "    <tr>\n",
       "      <th>4915</th>\n",
       "      <td>4915</td>\n",
       "      <td>O=C(c1cccs1)c1no[n+]([O-])c1C(=O)c1cccs1</td>\n",
       "      <td>True</td>\n",
       "    </tr>\n",
       "    <tr>\n",
       "      <th>4919</th>\n",
       "      <td>4919</td>\n",
       "      <td>CN1CC[C@@]2(C)c3cc(O)ccc3N(C)[C@@H]12.O=C(O)/C...</td>\n",
       "      <td>True</td>\n",
       "    </tr>\n",
       "    <tr>\n",
       "      <th>4942</th>\n",
       "      <td>4942</td>\n",
       "      <td>CCOC(=O)C1=C(C)NC(=S)N[C@@H]1c1cccc(O)c1</td>\n",
       "      <td>True</td>\n",
       "    </tr>\n",
       "    <tr>\n",
       "      <th>4964</th>\n",
       "      <td>4964</td>\n",
       "      <td>Cc1ccc(C)c(-n2sc3cc(F)ccc3c2=O)c1</td>\n",
       "      <td>True</td>\n",
       "    </tr>\n",
       "    <tr>\n",
       "      <th>4978</th>\n",
       "      <td>4978</td>\n",
       "      <td>CN(C)CCNc1nc2cc(O)ccc2c2c1C(=O)c1ccccc1-2</td>\n",
       "      <td>True</td>\n",
       "    </tr>\n",
       "    <tr>\n",
       "      <th>4980</th>\n",
       "      <td>4980</td>\n",
       "      <td>CN1C[C@H]2C[C@@H]1CN2c1cc2c(cc1F)c(=O)c(C(=O)O...</td>\n",
       "      <td>True</td>\n",
       "    </tr>\n",
       "    <tr>\n",
       "      <th>5024</th>\n",
       "      <td>5024</td>\n",
       "      <td>Nc1nc2[nH]cnc2c(=S)[nH]1</td>\n",
       "      <td>True</td>\n",
       "    </tr>\n",
       "    <tr>\n",
       "      <th>5085</th>\n",
       "      <td>5085</td>\n",
       "      <td>Nc1ncccc1-c1nc2ccc(-c3ccccc3)nc2n1-c1ccc(C2(N)...</td>\n",
       "      <td>True</td>\n",
       "    </tr>\n",
       "    <tr>\n",
       "      <th>5089</th>\n",
       "      <td>5089</td>\n",
       "      <td>CC(=O)N[C@@H]1[C@@H](O)C[C@@](O)(C(=O)O)O[C@H]...</td>\n",
       "      <td>True</td>\n",
       "    </tr>\n",
       "    <tr>\n",
       "      <th>5120</th>\n",
       "      <td>5120</td>\n",
       "      <td>CC[N+](C)(CC)CCC[n+]1c(-c2ccccc2)c2cc(N)ccc2c2...</td>\n",
       "      <td>True</td>\n",
       "    </tr>\n",
       "    <tr>\n",
       "      <th>5132</th>\n",
       "      <td>5132</td>\n",
       "      <td>COc1ccc2[n-]c([S@@+]([O-])Cc3ncc(C)c(OC)c3C)nc...</td>\n",
       "      <td>True</td>\n",
       "    </tr>\n",
       "    <tr>\n",
       "      <th>5154</th>\n",
       "      <td>5154</td>\n",
       "      <td>Cc1cc(-c2ccc(/N=N/c3ccc4c(S(=O)(=O)[O-])cc(S(=...</td>\n",
       "      <td>True</td>\n",
       "    </tr>\n",
       "    <tr>\n",
       "      <th>5185</th>\n",
       "      <td>5185</td>\n",
       "      <td>COC(=O)/C=C/c1cc(O)ccc1O</td>\n",
       "      <td>True</td>\n",
       "    </tr>\n",
       "    <tr>\n",
       "      <th>5200</th>\n",
       "      <td>5200</td>\n",
       "      <td>C#CCC(Cc1cnc2nc(N)nc(N)c2n1)c1ccc(C(=O)N[C@@H]...</td>\n",
       "      <td>True</td>\n",
       "    </tr>\n",
       "    <tr>\n",
       "      <th>5213</th>\n",
       "      <td>5213</td>\n",
       "      <td>CCCCCCCCCCCCCCCCCC[S+](CCC)c1ccccc1C(=O)OCC</td>\n",
       "      <td>True</td>\n",
       "    </tr>\n",
       "    <tr>\n",
       "      <th>5330</th>\n",
       "      <td>5330</td>\n",
       "      <td>Fc1cc(-c2cccc3ncc(-c4cnn(C5CCNCC5)c4)nc23)cc(F...</td>\n",
       "      <td>True</td>\n",
       "    </tr>\n",
       "    <tr>\n",
       "      <th>5332</th>\n",
       "      <td>5332</td>\n",
       "      <td>O=C(O)c1cc(O)c(O)c(O)c1</td>\n",
       "      <td>True</td>\n",
       "    </tr>\n",
       "    <tr>\n",
       "      <th>5341</th>\n",
       "      <td>5341</td>\n",
       "      <td>C[C@@H]1O[C@@H](Oc2c(-c3cc(O)c(O)c(O)c3)oc3cc(...</td>\n",
       "      <td>True</td>\n",
       "    </tr>\n",
       "    <tr>\n",
       "      <th>5345</th>\n",
       "      <td>5345</td>\n",
       "      <td>Nc1nc(N)c2nc(-c3ccccc3)c(N)nc2n1</td>\n",
       "      <td>True</td>\n",
       "    </tr>\n",
       "    <tr>\n",
       "      <th>5354</th>\n",
       "      <td>5354</td>\n",
       "      <td>CC(C)c1c2cc(-c3ccnc(N[C@H]4CC[C@H](NC5CCOCC5)C...</td>\n",
       "      <td>True</td>\n",
       "    </tr>\n",
       "    <tr>\n",
       "      <th>5492</th>\n",
       "      <td>5492</td>\n",
       "      <td>Sc1nnc(Nc2ccccc2)s1</td>\n",
       "      <td>True</td>\n",
       "    </tr>\n",
       "    <tr>\n",
       "      <th>5496</th>\n",
       "      <td>5496</td>\n",
       "      <td>C[C@H]1COC2=C1C(=O)C(=O)c1c2ccc2c1CCCC2(C)C</td>\n",
       "      <td>True</td>\n",
       "    </tr>\n",
       "    <tr>\n",
       "      <th>5520</th>\n",
       "      <td>5520</td>\n",
       "      <td>Nc1c2ccccc2nc2ccccc12</td>\n",
       "      <td>True</td>\n",
       "    </tr>\n",
       "    <tr>\n",
       "      <th>5522</th>\n",
       "      <td>5522</td>\n",
       "      <td>CCn1nc(C2CCN(C(=O)CCO)CC2)nc1-c1cnc(N)c(-c2nnc...</td>\n",
       "      <td>True</td>\n",
       "    </tr>\n",
       "  </tbody>\n",
       "</table>\n",
       "<p>206 rows × 3 columns</p>\n",
       "</div>"
      ],
      "text/plain": [
       "      Unnamed: 0                                             Smiles  Active\n",
       "17            17                                 Nc1ccc(O)c2ncccc12    True\n",
       "38            38  C[C@H]1COc2c(N3CCN(C)CC3)c(F)cc3c(=O)c(C(=O)O)...    True\n",
       "52            52                              Cl.NCCc1cc(O)c(O)cc1O    True\n",
       "111          111            Cc1ccc(-n2sc(=O)n(Cc3ccc(F)cc3)c2=O)cc1    True\n",
       "122          122      Oc1cc2c(cc1C(c1ccc(C(F)(F)F)cc1)N1CCOCC1)OCO2    True\n",
       "139          139   CN1CCC(CNc2ccc3ncc(-c4cccc(OC(F)(F)F)c4)n3n2)CC1    True\n",
       "166          166             CC(Cc1ccc(O)c(O)c1)C(C)Cc1ccc(O)c(O)c1    True\n",
       "167          167                 O=C(NCC(=O)N1CCCC1)Nc1ccc2cnccc2c1    True\n",
       "174          174  CC[C@@H](C)Nc1cc(C(=O)NC2CC3CCC(C2)N3c2ccc(C(=...    True\n",
       "179          179  C[N+]1(C)[C@H]2C[C@H](OC(=O)[C@H](CO)c3ccccc3)...    True\n",
       "271          271                                  Sc1nnnn1-c1ccccc1    True\n",
       "289          289            O=c1sn(-c2cccc3ccccc23)c(=O)n1Cc1ccccc1    True\n",
       "298          298            CCn1c(=O)c(-c2cc[nH]n2)cc2c(C)nc(N)nc21    True\n",
       "310          310               [O-]n1ccccc1=S.[O-]n1ccccc1=S.[Zn+2]    True\n",
       "376          376      COc1c(Cl)cc2c([nH]c3cnccc32)c1NC(=O)c1cccnc1C    True\n",
       "397          397                           COc1cc(OC)c2ccc(=O)oc2c1    True\n",
       "437          437  N#CCC1(n2cc(-c3ncnc4[nH]ccc34)cn2)CN(C2CCN(C(=...    True\n",
       "470          470             CCCCOCCOc1nc(-c2ccc(C(=O)O)c(F)c2)sc1C    True\n",
       "475          475  CCN(CC)c1ccc(C(=C2C=CC(=[N+](CC)CC)C=C2)c2cccc...    True\n",
       "477          477                           CC(=O)Nc1ccc(CC(=O)O)cc1    True\n",
       "487          487                                O=c1ccc2ccc(O)cc2o1    True\n",
       "497          497           CCOc1ccc(Nc2nc(-c3c(C)nc4ccccn34)cs2)cc1    True\n",
       "525          525  CCC1=C[C@@H]2CN(C1)Cc1c([nH]c3ccccc13)[C@@](C(...    True\n",
       "550          550  O=C(O)[C@H]1O[C@@H](Oc2cc3oc(-c4ccccc4)cc(=O)c...    True\n",
       "558          558                      O=c1c(O)cccc2cc(O)c(O)c(O)c12    True\n",
       "625          625              CC(CN1CC(=O)NC(=O)C1)N1CC(=O)NC(=O)C1    True\n",
       "629          629      Cn1c(=O)c(Oc2ccc(F)cc2F)cc2cnc(NC3CCOCC3)nc21    True\n",
       "665          665                            S=c1[nH]nc(-c2ccccc2)o1    True\n",
       "672          672  C=C1C(=O)[C@]23[C@H](O)[C@H]1CC[C@@H]2[C@@]12C...    True\n",
       "678          678     Cc1cn2c(N)c(Cl)cc(C(=O)NCC3CCN(CC(C)C)CC3)c2n1    True\n",
       "...          ...                                                ...     ...\n",
       "4829        4829                              COc1ccc2[nH]c(S)nc2c1    True\n",
       "4838        4838                     c1ccc2sc(SSc3nc4ccccc4s3)nc2c1    True\n",
       "4860        4860                   Br.Oc1cc2c(cc1O)C(c1ccccc1)CNCC2    True\n",
       "4873        4873                 O=C(O)c1ccc(SSc2ccc(C(=O)O)cn2)nc1    True\n",
       "4897        4897  CC[N+](CC)(CC)CCOc1cccc(OCC[N+](CC)(CC)CC)c1OC...    True\n",
       "4905        4905            Oc1cc2c(cc1O)[C@H](Cc1cccc3ccccc13)NCC2    True\n",
       "4915        4915           O=C(c1cccs1)c1no[n+]([O-])c1C(=O)c1cccs1    True\n",
       "4919        4919  CN1CC[C@@]2(C)c3cc(O)ccc3N(C)[C@@H]12.O=C(O)/C...    True\n",
       "4942        4942           CCOC(=O)C1=C(C)NC(=S)N[C@@H]1c1cccc(O)c1    True\n",
       "4964        4964                  Cc1ccc(C)c(-n2sc3cc(F)ccc3c2=O)c1    True\n",
       "4978        4978          CN(C)CCNc1nc2cc(O)ccc2c2c1C(=O)c1ccccc1-2    True\n",
       "4980        4980  CN1C[C@H]2C[C@@H]1CN2c1cc2c(cc1F)c(=O)c(C(=O)O...    True\n",
       "5024        5024                           Nc1nc2[nH]cnc2c(=S)[nH]1    True\n",
       "5085        5085  Nc1ncccc1-c1nc2ccc(-c3ccccc3)nc2n1-c1ccc(C2(N)...    True\n",
       "5089        5089  CC(=O)N[C@@H]1[C@@H](O)C[C@@](O)(C(=O)O)O[C@H]...    True\n",
       "5120        5120  CC[N+](C)(CC)CCC[n+]1c(-c2ccccc2)c2cc(N)ccc2c2...    True\n",
       "5132        5132  COc1ccc2[n-]c([S@@+]([O-])Cc3ncc(C)c(OC)c3C)nc...    True\n",
       "5154        5154  Cc1cc(-c2ccc(/N=N/c3ccc4c(S(=O)(=O)[O-])cc(S(=...    True\n",
       "5185        5185                           COC(=O)/C=C/c1cc(O)ccc1O    True\n",
       "5200        5200  C#CCC(Cc1cnc2nc(N)nc(N)c2n1)c1ccc(C(=O)N[C@@H]...    True\n",
       "5213        5213        CCCCCCCCCCCCCCCCCC[S+](CCC)c1ccccc1C(=O)OCC    True\n",
       "5330        5330  Fc1cc(-c2cccc3ncc(-c4cnn(C5CCNCC5)c4)nc23)cc(F...    True\n",
       "5332        5332                            O=C(O)c1cc(O)c(O)c(O)c1    True\n",
       "5341        5341  C[C@@H]1O[C@@H](Oc2c(-c3cc(O)c(O)c(O)c3)oc3cc(...    True\n",
       "5345        5345                   Nc1nc(N)c2nc(-c3ccccc3)c(N)nc2n1    True\n",
       "5354        5354  CC(C)c1c2cc(-c3ccnc(N[C@H]4CC[C@H](NC5CCOCC5)C...    True\n",
       "5492        5492                                Sc1nnc(Nc2ccccc2)s1    True\n",
       "5496        5496        C[C@H]1COC2=C1C(=O)C(=O)c1c2ccc2c1CCCC2(C)C    True\n",
       "5520        5520                              Nc1c2ccccc2nc2ccccc12    True\n",
       "5522        5522  CCn1nc(C2CCN(C(=O)CCO)CC2)nc1-c1cnc(N)c(-c2nnc...    True\n",
       "\n",
       "[206 rows x 3 columns]"
      ]
     },
     "execution_count": 8,
     "metadata": {},
     "output_type": "execute_result"
    }
   ],
   "source": [
    "# looking at the content of csv train file\n",
    "train_csv[train_csv['Active'] == True]"
   ]
  },
  {
   "cell_type": "code",
   "execution_count": 9,
   "id": "virtual-perfume",
   "metadata": {},
   "outputs": [],
   "source": [
    "# loading the head of PDB file as a dictionary\n",
    "# helpful to take a look at the description\n",
    "with open('Task/target.pdb', 'r') as pdb_file:\n",
    "    header_dict = parse_pdb_header(pdb_file)"
   ]
  },
  {
   "cell_type": "code",
   "execution_count": 10,
   "id": "norwegian-fiction",
   "metadata": {},
   "outputs": [
    {
     "data": {
      "text/plain": [
       "{'name': 'crystal structure of sars-cov-2 nsp3 macrodomain (c2 crystal form, 100 k)',\n",
       " 'head': 'viral protein',\n",
       " 'idcode': '7KR0',\n",
       " 'deposition_date': '2020-11-18',\n",
       " 'release_date': '2020-12-09',\n",
       " 'structure_method': 'x-ray diffraction',\n",
       " 'resolution': 0.77,\n",
       " 'structure_reference': [],\n",
       " 'journal_reference': \"m.schuller,g.j.correy,s.gahbauer,d.fearon,t.wu,r.e.dii.d.young,l.carvalho martins,d.h.smith,u.schulze-gahmt.w.owens,i.deshpande,g.e.merz,a.c.thwin,j.t.biel, j.k.peters,m.moritz,n.herrera,h.t.kratochvil,a.aimon,j.m.bennett,j.brandao neto,a.e.cohen,a.dias,a.douangal.dunnett,o.fedorov,m.p.ferla,m.r.fuchs,t.j.gorrie-stj.m.holton,m.g.johnson,t.krojer,g.meigs,a.j.powell, j.g.m.rack,v.l.rangel,s.russi,r.e.skyner,c.a.smith, a.s.soares,j.l.wierman,k.zhu,p.o'brien,n.jura,a.ashwoj.j.irwin,m.c.thompson,j.e.gestwicki,f.von delft, b.k.shoichet,j.s.fraser,i.ahel fragment binding to the nsp3 macrodomain of sars-cov-identified through crystallographic screening and computational docking. sci adv v. 7 2021 essn 2375-2548 33853786 10.1126/sciadv.abf8711 \",\n",
       " 'author': 'G.J.Correy,I.D.Young,M.C.Thompson,J.S.Fraser',\n",
       " 'compound': {'1': {'misc': '',\n",
       "   'molecule': 'non-structural protein 3',\n",
       "   'chain': 'a',\n",
       "   'fragment': 'macrodomain (unp residues 1024-1192)',\n",
       "   'synonym': 'nsp3,pl2-pro,papain-like protease,papain-like proteinase,pl-pro ',\n",
       "   'ec_number': '3.4.19.121',\n",
       "   'ec': '3.4.19.121, 3.4.22.-',\n",
       "   'engineered': 'yes'}},\n",
       " 'source': {'1': {'misc': '',\n",
       "   'organism_scientific': 'severe acute respiratory syndrome coronavirus2 ',\n",
       "   'organism_common': '2019-ncov',\n",
       "   'organism_taxid': '2697049',\n",
       "   'expression_system': 'escherichia coli bl21(de3)',\n",
       "   'expression_system_taxid': '469008'}},\n",
       " 'has_missing_residues': True,\n",
       " 'missing_residues': [{'model': None,\n",
       "   'res_name': 'ALA',\n",
       "   'chain': 'A',\n",
       "   'ssseq': 0,\n",
       "   'insertion': None},\n",
       "  {'model': None,\n",
       "   'res_name': 'GLY',\n",
       "   'chain': 'A',\n",
       "   'ssseq': 1,\n",
       "   'insertion': None}],\n",
       " 'keywords': 'macrodomain, adp-ribose, sars-cov-2, viral protein',\n",
       " 'journal': \"AUTH   M.SCHULLER,G.J.CORREY,S.GAHBAUER,D.FEARON,T.WU,R.E.DIAZ,AUTH 2 I.D.YOUNG,L.CARVALHO MARTINS,D.H.SMITH,U.SCHULZE-GAHMEN,AUTH 3 T.W.OWENS,I.DESHPANDE,G.E.MERZ,A.C.THWIN,J.T.BIEL,AUTH 4 J.K.PETERS,M.MORITZ,N.HERRERA,H.T.KRATOCHVIL,A.AIMON,AUTH 5 J.M.BENNETT,J.BRANDAO NETO,A.E.COHEN,A.DIAS,A.DOUANGAMATH,AUTH 6 L.DUNNETT,O.FEDOROV,M.P.FERLA,M.R.FUCHS,T.J.GORRIE-STONE,AUTH 7 J.M.HOLTON,M.G.JOHNSON,T.KROJER,G.MEIGS,A.J.POWELL,AUTH 8 J.G.M.RACK,V.L.RANGEL,S.RUSSI,R.E.SKYNER,C.A.SMITH,AUTH 9 A.S.SOARES,J.L.WIERMAN,K.ZHU,P.O'BRIEN,N.JURA,A.ASHWORTH,AUTH10 J.J.IRWIN,M.C.THOMPSON,J.E.GESTWICKI,F.VON DELFT,AUTH11 B.K.SHOICHET,J.S.FRASER,I.AHELTITL   FRAGMENT BINDING TO THE NSP3 MACRODOMAIN OF SARS-COV-2TITL 2 IDENTIFIED THROUGH CRYSTALLOGRAPHIC SCREENING ANDTITL 3 COMPUTATIONAL DOCKING.REF    SCI ADV                       V.   7       2021REFN                   ESSN 2375-2548PMID   33853786DOI    10.1126/SCIADV.ABF8711\"}"
      ]
     },
     "execution_count": 10,
     "metadata": {},
     "output_type": "execute_result"
    }
   ],
   "source": [
    "# PDB header\n",
    "header_dict"
   ]
  },
  {
   "cell_type": "code",
   "execution_count": 11,
   "id": "similar-robin",
   "metadata": {},
   "outputs": [],
   "source": [
    "parser = PDBParser()\n",
    "structure = parser.get_structure(\"target\", \"Task/target.pdb\")"
   ]
  },
  {
   "cell_type": "code",
   "execution_count": 12,
   "id": "editorial-juvenile",
   "metadata": {},
   "outputs": [
    {
     "data": {
      "text/plain": [
       "0.77"
      ]
     },
     "execution_count": 12,
     "metadata": {},
     "output_type": "execute_result"
    }
   ],
   "source": [
    "structure.header[\"resolution\"]"
   ]
  },
  {
   "cell_type": "code",
   "execution_count": 13,
   "id": "unlimited-promise",
   "metadata": {},
   "outputs": [
    {
     "data": {
      "text/plain": [
       "'macrodomain, adp-ribose, sars-cov-2, viral protein'"
      ]
     },
     "execution_count": 13,
     "metadata": {},
     "output_type": "execute_result"
    }
   ],
   "source": [
    "structure.header[\"keywords\"]"
   ]
  },
  {
   "cell_type": "code",
   "execution_count": 14,
   "id": "electronic-count",
   "metadata": {},
   "outputs": [
    {
     "name": "stdout",
     "output_type": "stream",
     "text": [
      "[<Model id=0>]\n",
      "[<Chain id=A>]\n"
     ]
    }
   ],
   "source": [
    "print(structure.get_list())\n",
    "print(structure[0].get_list())"
   ]
  },
  {
   "cell_type": "code",
   "execution_count": 15,
   "id": "dried-coupon",
   "metadata": {},
   "outputs": [
    {
     "name": "stdout",
     "output_type": "stream",
     "text": [
      "<Residue GLU het=  resseq=2 icode= >\n",
      "<Residue GLU het=  resseq=170 icode= >\n"
     ]
    }
   ],
   "source": [
    "print(structure[0]['A'][2])\n",
    "print(structure[0]['A'][170])"
   ]
  },
  {
   "cell_type": "code",
   "execution_count": 16,
   "id": "timely-hundred",
   "metadata": {},
   "outputs": [
    {
     "data": {
      "text/plain": [
       "[<Residue GLU het=  resseq=2 icode= >,\n",
       " <Residue VAL het=  resseq=3 icode= >,\n",
       " <Residue ASN het=  resseq=4 icode= >,\n",
       " <Residue SER het=  resseq=5 icode= >,\n",
       " <Residue PHE het=  resseq=6 icode= >,\n",
       " <Residue SER het=  resseq=7 icode= >,\n",
       " <Residue GLY het=  resseq=8 icode= >,\n",
       " <Residue TYR het=  resseq=9 icode= >,\n",
       " <Residue LEU het=  resseq=10 icode= >,\n",
       " <Residue LYS het=  resseq=11 icode= >,\n",
       " <Residue LEU het=  resseq=12 icode= >,\n",
       " <Residue THR het=  resseq=13 icode= >,\n",
       " <Residue ASP het=  resseq=14 icode= >,\n",
       " <Residue ASN het=  resseq=15 icode= >,\n",
       " <Residue VAL het=  resseq=16 icode= >,\n",
       " <Residue TYR het=  resseq=17 icode= >,\n",
       " <Residue ILE het=  resseq=18 icode= >,\n",
       " <Residue LYS het=  resseq=19 icode= >,\n",
       " <Residue ASN het=  resseq=20 icode= >,\n",
       " <Residue ALA het=  resseq=21 icode= >,\n",
       " <Residue ASP het=  resseq=22 icode= >,\n",
       " <Residue ILE het=  resseq=23 icode= >,\n",
       " <Residue VAL het=  resseq=24 icode= >,\n",
       " <Residue GLU het=  resseq=25 icode= >,\n",
       " <Residue GLU het=  resseq=26 icode= >,\n",
       " <Residue ALA het=  resseq=27 icode= >,\n",
       " <Residue LYS het=  resseq=28 icode= >,\n",
       " <Residue LYS het=  resseq=29 icode= >,\n",
       " <Residue VAL het=  resseq=30 icode= >,\n",
       " <Residue LYS het=  resseq=31 icode= >,\n",
       " <Residue PRO het=  resseq=32 icode= >,\n",
       " <Residue THR het=  resseq=33 icode= >,\n",
       " <Residue VAL het=  resseq=34 icode= >,\n",
       " <Residue VAL het=  resseq=35 icode= >,\n",
       " <Residue VAL het=  resseq=36 icode= >,\n",
       " <Residue ASN het=  resseq=37 icode= >,\n",
       " <Residue ALA het=  resseq=38 icode= >,\n",
       " <Residue ALA het=  resseq=39 icode= >,\n",
       " <Residue ASN het=  resseq=40 icode= >,\n",
       " <Residue VAL het=  resseq=41 icode= >,\n",
       " <Residue TYR het=  resseq=42 icode= >,\n",
       " <Residue LEU het=  resseq=43 icode= >,\n",
       " <Residue LYS het=  resseq=44 icode= >,\n",
       " <Residue HIS het=  resseq=45 icode= >,\n",
       " <Residue GLY het=  resseq=46 icode= >,\n",
       " <Residue GLY het=  resseq=47 icode= >,\n",
       " <Residue GLY het=  resseq=48 icode= >,\n",
       " <Residue VAL het=  resseq=49 icode= >,\n",
       " <Residue ALA het=  resseq=50 icode= >,\n",
       " <Residue GLY het=  resseq=51 icode= >,\n",
       " <Residue ALA het=  resseq=52 icode= >,\n",
       " <Residue LEU het=  resseq=53 icode= >,\n",
       " <Residue ASN het=  resseq=54 icode= >,\n",
       " <Residue LYS het=  resseq=55 icode= >,\n",
       " <Residue ALA het=  resseq=56 icode= >,\n",
       " <Residue THR het=  resseq=57 icode= >,\n",
       " <Residue ASN het=  resseq=58 icode= >,\n",
       " <Residue ASN het=  resseq=59 icode= >,\n",
       " <Residue ALA het=  resseq=60 icode= >,\n",
       " <Residue MET het=  resseq=61 icode= >,\n",
       " <Residue GLN het=  resseq=62 icode= >,\n",
       " <Residue VAL het=  resseq=63 icode= >,\n",
       " <Residue GLU het=  resseq=64 icode= >,\n",
       " <Residue SER het=  resseq=65 icode= >,\n",
       " <Residue ASP het=  resseq=66 icode= >,\n",
       " <Residue ASP het=  resseq=67 icode= >,\n",
       " <Residue TYR het=  resseq=68 icode= >,\n",
       " <Residue ILE het=  resseq=69 icode= >,\n",
       " <Residue ALA het=  resseq=70 icode= >,\n",
       " <Residue THR het=  resseq=71 icode= >,\n",
       " <Residue ASN het=  resseq=72 icode= >,\n",
       " <Residue GLY het=  resseq=73 icode= >,\n",
       " <Residue PRO het=  resseq=74 icode= >,\n",
       " <Residue LEU het=  resseq=75 icode= >,\n",
       " <Residue LYS het=  resseq=76 icode= >,\n",
       " <Residue VAL het=  resseq=77 icode= >,\n",
       " <Residue GLY het=  resseq=78 icode= >,\n",
       " <Residue GLY het=  resseq=79 icode= >,\n",
       " <Residue SER het=  resseq=80 icode= >,\n",
       " <Residue CYS het=  resseq=81 icode= >,\n",
       " <Residue VAL het=  resseq=82 icode= >,\n",
       " <Residue LEU het=  resseq=83 icode= >,\n",
       " <Residue SER het=  resseq=84 icode= >,\n",
       " <Residue GLY het=  resseq=85 icode= >,\n",
       " <Residue HIS het=  resseq=86 icode= >,\n",
       " <Residue ASN het=  resseq=87 icode= >,\n",
       " <Residue LEU het=  resseq=88 icode= >,\n",
       " <Residue ALA het=  resseq=89 icode= >,\n",
       " <Residue LYS het=  resseq=90 icode= >,\n",
       " <Residue HIS het=  resseq=91 icode= >,\n",
       " <Residue CYS het=  resseq=92 icode= >,\n",
       " <Residue LEU het=  resseq=93 icode= >,\n",
       " <Residue HIS het=  resseq=94 icode= >,\n",
       " <Residue VAL het=  resseq=95 icode= >,\n",
       " <Residue VAL het=  resseq=96 icode= >,\n",
       " <Residue GLY het=  resseq=97 icode= >,\n",
       " <Residue PRO het=  resseq=98 icode= >,\n",
       " <Residue ASN het=  resseq=99 icode= >,\n",
       " <Residue VAL het=  resseq=100 icode= >,\n",
       " <Residue ASN het=  resseq=101 icode= >,\n",
       " <Residue LYS het=  resseq=102 icode= >,\n",
       " <Residue GLY het=  resseq=103 icode= >,\n",
       " <Residue GLU het=  resseq=104 icode= >,\n",
       " <Residue ASP het=  resseq=105 icode= >,\n",
       " <Residue ILE het=  resseq=106 icode= >,\n",
       " <Residue GLN het=  resseq=107 icode= >,\n",
       " <Residue LEU het=  resseq=108 icode= >,\n",
       " <Residue LEU het=  resseq=109 icode= >,\n",
       " <Residue LYS het=  resseq=110 icode= >,\n",
       " <Residue SER het=  resseq=111 icode= >,\n",
       " <Residue ALA het=  resseq=112 icode= >,\n",
       " <Residue TYR het=  resseq=113 icode= >,\n",
       " <Residue GLU het=  resseq=114 icode= >,\n",
       " <Residue ASN het=  resseq=115 icode= >,\n",
       " <Residue PHE het=  resseq=116 icode= >,\n",
       " <Residue ASN het=  resseq=117 icode= >,\n",
       " <Residue GLN het=  resseq=118 icode= >,\n",
       " <Residue HIS het=  resseq=119 icode= >,\n",
       " <Residue GLU het=  resseq=120 icode= >,\n",
       " <Residue VAL het=  resseq=121 icode= >,\n",
       " <Residue LEU het=  resseq=122 icode= >,\n",
       " <Residue LEU het=  resseq=123 icode= >,\n",
       " <Residue ALA het=  resseq=124 icode= >,\n",
       " <Residue PRO het=  resseq=125 icode= >,\n",
       " <Residue LEU het=  resseq=126 icode= >,\n",
       " <Residue LEU het=  resseq=127 icode= >,\n",
       " <Residue SER het=  resseq=128 icode= >,\n",
       " <Residue ALA het=  resseq=129 icode= >,\n",
       " <Residue GLY het=  resseq=130 icode= >,\n",
       " <Residue ILE het=  resseq=131 icode= >,\n",
       " <Residue PHE het=  resseq=132 icode= >,\n",
       " <Residue GLY het=  resseq=133 icode= >,\n",
       " <Residue ALA het=  resseq=134 icode= >,\n",
       " <Residue ASP het=  resseq=135 icode= >,\n",
       " <Residue PRO het=  resseq=136 icode= >,\n",
       " <Residue ILE het=  resseq=137 icode= >,\n",
       " <Residue HIS het=  resseq=138 icode= >,\n",
       " <Residue SER het=  resseq=139 icode= >,\n",
       " <Residue LEU het=  resseq=140 icode= >,\n",
       " <Residue ARG het=  resseq=141 icode= >,\n",
       " <Residue VAL het=  resseq=142 icode= >,\n",
       " <Residue CYS het=  resseq=143 icode= >,\n",
       " <Residue VAL het=  resseq=144 icode= >,\n",
       " <Residue ASP het=  resseq=145 icode= >,\n",
       " <Residue THR het=  resseq=146 icode= >,\n",
       " <Residue VAL het=  resseq=147 icode= >,\n",
       " <Residue ARG het=  resseq=148 icode= >,\n",
       " <Residue THR het=  resseq=149 icode= >,\n",
       " <Residue ASN het=  resseq=150 icode= >,\n",
       " <Residue VAL het=  resseq=151 icode= >,\n",
       " <Residue TYR het=  resseq=152 icode= >,\n",
       " <Residue LEU het=  resseq=153 icode= >,\n",
       " <Residue ALA het=  resseq=154 icode= >,\n",
       " <Residue VAL het=  resseq=155 icode= >,\n",
       " <Residue PHE het=  resseq=156 icode= >,\n",
       " <Residue ASP het=  resseq=157 icode= >,\n",
       " <Residue LYS het=  resseq=158 icode= >,\n",
       " <Residue ASN het=  resseq=159 icode= >,\n",
       " <Residue LEU het=  resseq=160 icode= >,\n",
       " <Residue TYR het=  resseq=161 icode= >,\n",
       " <Residue ASP het=  resseq=162 icode= >,\n",
       " <Residue LYS het=  resseq=163 icode= >,\n",
       " <Residue LEU het=  resseq=164 icode= >,\n",
       " <Residue VAL het=  resseq=165 icode= >,\n",
       " <Residue SER het=  resseq=166 icode= >,\n",
       " <Residue SER het=  resseq=167 icode= >,\n",
       " <Residue PHE het=  resseq=168 icode= >,\n",
       " <Residue LEU het=  resseq=169 icode= >,\n",
       " <Residue GLU het=  resseq=170 icode= >,\n",
       " <Residue HOH het=W resseq=201 icode= >,\n",
       " <Residue HOH het=W resseq=202 icode= >,\n",
       " <Residue HOH het=W resseq=203 icode= >,\n",
       " <Residue HOH het=W resseq=204 icode= >,\n",
       " <Residue HOH het=W resseq=205 icode= >,\n",
       " <Residue HOH het=W resseq=206 icode= >,\n",
       " <Residue HOH het=W resseq=207 icode= >,\n",
       " <Residue HOH het=W resseq=208 icode= >,\n",
       " <Residue HOH het=W resseq=209 icode= >,\n",
       " <Residue HOH het=W resseq=210 icode= >,\n",
       " <Residue HOH het=W resseq=211 icode= >,\n",
       " <Residue HOH het=W resseq=212 icode= >,\n",
       " <Residue HOH het=W resseq=213 icode= >,\n",
       " <Residue HOH het=W resseq=214 icode= >,\n",
       " <Residue HOH het=W resseq=215 icode= >,\n",
       " <Residue HOH het=W resseq=216 icode= >,\n",
       " <Residue HOH het=W resseq=217 icode= >,\n",
       " <Residue HOH het=W resseq=218 icode= >,\n",
       " <Residue HOH het=W resseq=219 icode= >,\n",
       " <Residue HOH het=W resseq=220 icode= >,\n",
       " <Residue HOH het=W resseq=221 icode= >,\n",
       " <Residue HOH het=W resseq=222 icode= >,\n",
       " <Residue HOH het=W resseq=223 icode= >,\n",
       " <Residue HOH het=W resseq=224 icode= >,\n",
       " <Residue HOH het=W resseq=225 icode= >,\n",
       " <Residue HOH het=W resseq=226 icode= >,\n",
       " <Residue HOH het=W resseq=227 icode= >,\n",
       " <Residue HOH het=W resseq=228 icode= >,\n",
       " <Residue HOH het=W resseq=229 icode= >,\n",
       " <Residue HOH het=W resseq=230 icode= >,\n",
       " <Residue HOH het=W resseq=231 icode= >,\n",
       " <Residue HOH het=W resseq=232 icode= >,\n",
       " <Residue HOH het=W resseq=233 icode= >,\n",
       " <Residue HOH het=W resseq=234 icode= >,\n",
       " <Residue HOH het=W resseq=235 icode= >,\n",
       " <Residue HOH het=W resseq=236 icode= >,\n",
       " <Residue HOH het=W resseq=237 icode= >,\n",
       " <Residue HOH het=W resseq=238 icode= >,\n",
       " <Residue HOH het=W resseq=239 icode= >,\n",
       " <Residue HOH het=W resseq=240 icode= >,\n",
       " <Residue HOH het=W resseq=241 icode= >,\n",
       " <Residue HOH het=W resseq=242 icode= >,\n",
       " <Residue HOH het=W resseq=243 icode= >,\n",
       " <Residue HOH het=W resseq=244 icode= >,\n",
       " <Residue HOH het=W resseq=245 icode= >,\n",
       " <Residue HOH het=W resseq=246 icode= >,\n",
       " <Residue HOH het=W resseq=247 icode= >,\n",
       " <Residue HOH het=W resseq=248 icode= >,\n",
       " <Residue HOH het=W resseq=249 icode= >,\n",
       " <Residue HOH het=W resseq=250 icode= >,\n",
       " <Residue HOH het=W resseq=251 icode= >,\n",
       " <Residue HOH het=W resseq=252 icode= >,\n",
       " <Residue HOH het=W resseq=253 icode= >,\n",
       " <Residue HOH het=W resseq=254 icode= >,\n",
       " <Residue HOH het=W resseq=255 icode= >,\n",
       " <Residue HOH het=W resseq=256 icode= >,\n",
       " <Residue HOH het=W resseq=257 icode= >,\n",
       " <Residue HOH het=W resseq=258 icode= >,\n",
       " <Residue HOH het=W resseq=259 icode= >,\n",
       " <Residue HOH het=W resseq=260 icode= >,\n",
       " <Residue HOH het=W resseq=261 icode= >,\n",
       " <Residue HOH het=W resseq=262 icode= >,\n",
       " <Residue HOH het=W resseq=263 icode= >,\n",
       " <Residue HOH het=W resseq=264 icode= >,\n",
       " <Residue HOH het=W resseq=265 icode= >,\n",
       " <Residue HOH het=W resseq=266 icode= >,\n",
       " <Residue HOH het=W resseq=267 icode= >,\n",
       " <Residue HOH het=W resseq=268 icode= >,\n",
       " <Residue HOH het=W resseq=269 icode= >,\n",
       " <Residue HOH het=W resseq=270 icode= >,\n",
       " <Residue HOH het=W resseq=271 icode= >,\n",
       " <Residue HOH het=W resseq=272 icode= >,\n",
       " <Residue HOH het=W resseq=273 icode= >,\n",
       " <Residue HOH het=W resseq=274 icode= >,\n",
       " <Residue HOH het=W resseq=275 icode= >,\n",
       " <Residue HOH het=W resseq=276 icode= >,\n",
       " <Residue HOH het=W resseq=277 icode= >,\n",
       " <Residue HOH het=W resseq=278 icode= >,\n",
       " <Residue HOH het=W resseq=279 icode= >,\n",
       " <Residue HOH het=W resseq=280 icode= >,\n",
       " <Residue HOH het=W resseq=281 icode= >,\n",
       " <Residue HOH het=W resseq=282 icode= >,\n",
       " <Residue HOH het=W resseq=283 icode= >,\n",
       " <Residue HOH het=W resseq=284 icode= >,\n",
       " <Residue HOH het=W resseq=285 icode= >,\n",
       " <Residue HOH het=W resseq=286 icode= >,\n",
       " <Residue HOH het=W resseq=287 icode= >,\n",
       " <Residue HOH het=W resseq=288 icode= >,\n",
       " <Residue HOH het=W resseq=289 icode= >,\n",
       " <Residue HOH het=W resseq=290 icode= >,\n",
       " <Residue HOH het=W resseq=291 icode= >,\n",
       " <Residue HOH het=W resseq=292 icode= >,\n",
       " <Residue HOH het=W resseq=293 icode= >,\n",
       " <Residue HOH het=W resseq=294 icode= >,\n",
       " <Residue HOH het=W resseq=295 icode= >,\n",
       " <Residue HOH het=W resseq=296 icode= >,\n",
       " <Residue HOH het=W resseq=297 icode= >,\n",
       " <Residue HOH het=W resseq=298 icode= >,\n",
       " <Residue HOH het=W resseq=299 icode= >,\n",
       " <Residue HOH het=W resseq=300 icode= >,\n",
       " <Residue HOH het=W resseq=301 icode= >,\n",
       " <Residue HOH het=W resseq=302 icode= >,\n",
       " <Residue HOH het=W resseq=303 icode= >,\n",
       " <Residue HOH het=W resseq=304 icode= >,\n",
       " <Residue HOH het=W resseq=305 icode= >,\n",
       " <Residue HOH het=W resseq=306 icode= >,\n",
       " <Residue HOH het=W resseq=307 icode= >,\n",
       " <Residue HOH het=W resseq=308 icode= >,\n",
       " <Residue HOH het=W resseq=309 icode= >,\n",
       " <Residue HOH het=W resseq=310 icode= >,\n",
       " <Residue HOH het=W resseq=311 icode= >,\n",
       " <Residue HOH het=W resseq=312 icode= >,\n",
       " <Residue HOH het=W resseq=313 icode= >,\n",
       " <Residue HOH het=W resseq=314 icode= >,\n",
       " <Residue HOH het=W resseq=315 icode= >,\n",
       " <Residue HOH het=W resseq=316 icode= >,\n",
       " <Residue HOH het=W resseq=317 icode= >,\n",
       " <Residue HOH het=W resseq=318 icode= >,\n",
       " <Residue HOH het=W resseq=319 icode= >,\n",
       " <Residue HOH het=W resseq=320 icode= >,\n",
       " <Residue HOH het=W resseq=321 icode= >,\n",
       " <Residue HOH het=W resseq=322 icode= >,\n",
       " <Residue HOH het=W resseq=323 icode= >,\n",
       " <Residue HOH het=W resseq=324 icode= >,\n",
       " <Residue HOH het=W resseq=325 icode= >,\n",
       " <Residue HOH het=W resseq=326 icode= >,\n",
       " <Residue HOH het=W resseq=327 icode= >,\n",
       " <Residue HOH het=W resseq=328 icode= >,\n",
       " <Residue HOH het=W resseq=329 icode= >,\n",
       " <Residue HOH het=W resseq=330 icode= >,\n",
       " <Residue HOH het=W resseq=331 icode= >,\n",
       " <Residue HOH het=W resseq=332 icode= >,\n",
       " <Residue HOH het=W resseq=333 icode= >,\n",
       " <Residue HOH het=W resseq=334 icode= >,\n",
       " <Residue HOH het=W resseq=335 icode= >,\n",
       " <Residue HOH het=W resseq=336 icode= >,\n",
       " <Residue HOH het=W resseq=337 icode= >,\n",
       " <Residue HOH het=W resseq=338 icode= >,\n",
       " <Residue HOH het=W resseq=339 icode= >,\n",
       " <Residue HOH het=W resseq=340 icode= >,\n",
       " <Residue HOH het=W resseq=341 icode= >,\n",
       " <Residue HOH het=W resseq=342 icode= >,\n",
       " <Residue HOH het=W resseq=343 icode= >,\n",
       " <Residue HOH het=W resseq=344 icode= >,\n",
       " <Residue HOH het=W resseq=345 icode= >,\n",
       " <Residue HOH het=W resseq=346 icode= >,\n",
       " <Residue HOH het=W resseq=347 icode= >,\n",
       " <Residue HOH het=W resseq=348 icode= >,\n",
       " <Residue HOH het=W resseq=349 icode= >,\n",
       " <Residue HOH het=W resseq=350 icode= >,\n",
       " <Residue HOH het=W resseq=351 icode= >,\n",
       " <Residue HOH het=W resseq=352 icode= >,\n",
       " <Residue HOH het=W resseq=353 icode= >,\n",
       " <Residue HOH het=W resseq=354 icode= >,\n",
       " <Residue HOH het=W resseq=355 icode= >,\n",
       " <Residue HOH het=W resseq=356 icode= >,\n",
       " <Residue HOH het=W resseq=357 icode= >,\n",
       " <Residue HOH het=W resseq=358 icode= >,\n",
       " <Residue HOH het=W resseq=359 icode= >,\n",
       " <Residue HOH het=W resseq=360 icode= >,\n",
       " <Residue HOH het=W resseq=361 icode= >,\n",
       " <Residue HOH het=W resseq=362 icode= >,\n",
       " <Residue HOH het=W resseq=363 icode= >,\n",
       " <Residue HOH het=W resseq=364 icode= >,\n",
       " <Residue HOH het=W resseq=365 icode= >,\n",
       " <Residue HOH het=W resseq=366 icode= >,\n",
       " <Residue HOH het=W resseq=367 icode= >,\n",
       " <Residue HOH het=W resseq=368 icode= >,\n",
       " <Residue HOH het=W resseq=369 icode= >,\n",
       " <Residue HOH het=W resseq=370 icode= >,\n",
       " <Residue HOH het=W resseq=371 icode= >,\n",
       " <Residue HOH het=W resseq=372 icode= >,\n",
       " <Residue HOH het=W resseq=373 icode= >,\n",
       " <Residue HOH het=W resseq=374 icode= >,\n",
       " <Residue HOH het=W resseq=375 icode= >,\n",
       " <Residue HOH het=W resseq=376 icode= >,\n",
       " <Residue HOH het=W resseq=377 icode= >,\n",
       " <Residue HOH het=W resseq=378 icode= >,\n",
       " <Residue HOH het=W resseq=379 icode= >,\n",
       " <Residue HOH het=W resseq=380 icode= >,\n",
       " <Residue HOH het=W resseq=381 icode= >,\n",
       " <Residue HOH het=W resseq=382 icode= >,\n",
       " <Residue HOH het=W resseq=383 icode= >,\n",
       " <Residue HOH het=W resseq=384 icode= >,\n",
       " <Residue HOH het=W resseq=385 icode= >,\n",
       " <Residue HOH het=W resseq=386 icode= >,\n",
       " <Residue HOH het=W resseq=387 icode= >,\n",
       " <Residue HOH het=W resseq=388 icode= >,\n",
       " <Residue HOH het=W resseq=389 icode= >,\n",
       " <Residue HOH het=W resseq=390 icode= >,\n",
       " <Residue HOH het=W resseq=391 icode= >,\n",
       " <Residue HOH het=W resseq=392 icode= >,\n",
       " <Residue HOH het=W resseq=393 icode= >,\n",
       " <Residue HOH het=W resseq=394 icode= >,\n",
       " <Residue HOH het=W resseq=395 icode= >,\n",
       " <Residue HOH het=W resseq=396 icode= >,\n",
       " <Residue HOH het=W resseq=397 icode= >,\n",
       " <Residue HOH het=W resseq=398 icode= >,\n",
       " <Residue HOH het=W resseq=399 icode= >,\n",
       " <Residue HOH het=W resseq=400 icode= >,\n",
       " <Residue HOH het=W resseq=401 icode= >,\n",
       " <Residue HOH het=W resseq=402 icode= >,\n",
       " <Residue HOH het=W resseq=403 icode= >,\n",
       " <Residue HOH het=W resseq=404 icode= >,\n",
       " <Residue HOH het=W resseq=405 icode= >,\n",
       " <Residue HOH het=W resseq=406 icode= >,\n",
       " <Residue HOH het=W resseq=407 icode= >,\n",
       " <Residue HOH het=W resseq=408 icode= >,\n",
       " <Residue HOH het=W resseq=409 icode= >,\n",
       " <Residue HOH het=W resseq=410 icode= >,\n",
       " <Residue HOH het=W resseq=411 icode= >,\n",
       " <Residue HOH het=W resseq=412 icode= >,\n",
       " <Residue HOH het=W resseq=413 icode= >,\n",
       " <Residue HOH het=W resseq=414 icode= >,\n",
       " <Residue HOH het=W resseq=415 icode= >,\n",
       " <Residue HOH het=W resseq=416 icode= >,\n",
       " <Residue HOH het=W resseq=417 icode= >,\n",
       " <Residue HOH het=W resseq=418 icode= >,\n",
       " <Residue HOH het=W resseq=419 icode= >,\n",
       " <Residue HOH het=W resseq=420 icode= >,\n",
       " <Residue HOH het=W resseq=421 icode= >,\n",
       " <Residue HOH het=W resseq=422 icode= >,\n",
       " <Residue HOH het=W resseq=423 icode= >,\n",
       " <Residue HOH het=W resseq=424 icode= >,\n",
       " <Residue HOH het=W resseq=425 icode= >,\n",
       " <Residue HOH het=W resseq=426 icode= >,\n",
       " <Residue HOH het=W resseq=427 icode= >,\n",
       " <Residue HOH het=W resseq=428 icode= >,\n",
       " <Residue HOH het=W resseq=429 icode= >,\n",
       " <Residue HOH het=W resseq=430 icode= >,\n",
       " <Residue HOH het=W resseq=431 icode= >,\n",
       " <Residue HOH het=W resseq=432 icode= >,\n",
       " <Residue HOH het=W resseq=433 icode= >,\n",
       " <Residue HOH het=W resseq=434 icode= >,\n",
       " <Residue HOH het=W resseq=435 icode= >,\n",
       " <Residue HOH het=W resseq=436 icode= >,\n",
       " <Residue HOH het=W resseq=437 icode= >,\n",
       " <Residue HOH het=W resseq=438 icode= >,\n",
       " <Residue HOH het=W resseq=439 icode= >,\n",
       " <Residue HOH het=W resseq=440 icode= >,\n",
       " <Residue HOH het=W resseq=441 icode= >,\n",
       " <Residue HOH het=W resseq=442 icode= >,\n",
       " <Residue HOH het=W resseq=443 icode= >,\n",
       " <Residue HOH het=W resseq=444 icode= >,\n",
       " <Residue HOH het=W resseq=445 icode= >,\n",
       " <Residue HOH het=W resseq=446 icode= >,\n",
       " <Residue HOH het=W resseq=447 icode= >,\n",
       " <Residue HOH het=W resseq=448 icode= >,\n",
       " <Residue HOH het=W resseq=449 icode= >,\n",
       " <Residue HOH het=W resseq=450 icode= >,\n",
       " <Residue HOH het=W resseq=451 icode= >,\n",
       " <Residue HOH het=W resseq=452 icode= >,\n",
       " <Residue HOH het=W resseq=453 icode= >,\n",
       " <Residue HOH het=W resseq=454 icode= >,\n",
       " <Residue HOH het=W resseq=455 icode= >,\n",
       " <Residue HOH het=W resseq=456 icode= >,\n",
       " <Residue HOH het=W resseq=457 icode= >,\n",
       " <Residue HOH het=W resseq=458 icode= >,\n",
       " <Residue HOH het=W resseq=459 icode= >,\n",
       " <Residue HOH het=W resseq=460 icode= >,\n",
       " <Residue HOH het=W resseq=461 icode= >,\n",
       " <Residue HOH het=W resseq=462 icode= >,\n",
       " <Residue HOH het=W resseq=463 icode= >,\n",
       " <Residue HOH het=W resseq=464 icode= >,\n",
       " <Residue HOH het=W resseq=465 icode= >,\n",
       " <Residue HOH het=W resseq=466 icode= >,\n",
       " <Residue HOH het=W resseq=467 icode= >,\n",
       " <Residue HOH het=W resseq=468 icode= >,\n",
       " <Residue HOH het=W resseq=469 icode= >,\n",
       " <Residue HOH het=W resseq=470 icode= >,\n",
       " <Residue HOH het=W resseq=471 icode= >,\n",
       " <Residue HOH het=W resseq=472 icode= >,\n",
       " <Residue HOH het=W resseq=473 icode= >,\n",
       " <Residue HOH het=W resseq=474 icode= >,\n",
       " <Residue HOH het=W resseq=475 icode= >,\n",
       " <Residue HOH het=W resseq=476 icode= >,\n",
       " <Residue HOH het=W resseq=477 icode= >,\n",
       " <Residue HOH het=W resseq=478 icode= >,\n",
       " <Residue HOH het=W resseq=479 icode= >,\n",
       " <Residue HOH het=W resseq=480 icode= >,\n",
       " <Residue HOH het=W resseq=481 icode= >,\n",
       " <Residue HOH het=W resseq=482 icode= >,\n",
       " <Residue HOH het=W resseq=483 icode= >,\n",
       " <Residue HOH het=W resseq=484 icode= >,\n",
       " <Residue HOH het=W resseq=485 icode= >,\n",
       " <Residue HOH het=W resseq=486 icode= >,\n",
       " <Residue HOH het=W resseq=487 icode= >,\n",
       " <Residue HOH het=W resseq=488 icode= >,\n",
       " <Residue HOH het=W resseq=489 icode= >,\n",
       " <Residue HOH het=W resseq=490 icode= >,\n",
       " <Residue HOH het=W resseq=491 icode= >,\n",
       " <Residue HOH het=W resseq=492 icode= >,\n",
       " <Residue HOH het=W resseq=493 icode= >,\n",
       " <Residue HOH het=W resseq=494 icode= >,\n",
       " <Residue HOH het=W resseq=495 icode= >,\n",
       " <Residue HOH het=W resseq=496 icode= >,\n",
       " <Residue HOH het=W resseq=497 icode= >,\n",
       " <Residue HOH het=W resseq=498 icode= >,\n",
       " <Residue HOH het=W resseq=499 icode= >,\n",
       " <Residue HOH het=W resseq=500 icode= >,\n",
       " <Residue HOH het=W resseq=501 icode= >,\n",
       " <Residue HOH het=W resseq=502 icode= >,\n",
       " <Residue HOH het=W resseq=503 icode= >,\n",
       " <Residue HOH het=W resseq=504 icode= >,\n",
       " <Residue HOH het=W resseq=505 icode= >,\n",
       " <Residue HOH het=W resseq=506 icode= >,\n",
       " <Residue HOH het=W resseq=507 icode= >,\n",
       " <Residue HOH het=W resseq=508 icode= >,\n",
       " <Residue HOH het=W resseq=509 icode= >,\n",
       " <Residue HOH het=W resseq=510 icode= >,\n",
       " <Residue HOH het=W resseq=511 icode= >,\n",
       " <Residue HOH het=W resseq=512 icode= >]"
      ]
     },
     "execution_count": 16,
     "metadata": {},
     "output_type": "execute_result"
    }
   ],
   "source": [
    "structure[0]['A'].get_list()"
   ]
  },
  {
   "cell_type": "markdown",
   "id": "surprising-utilization",
   "metadata": {},
   "source": [
    "### Extracting aminoacid residues"
   ]
  },
  {
   "cell_type": "code",
   "execution_count": 17,
   "id": "unsigned-brazilian",
   "metadata": {},
   "outputs": [],
   "source": [
    "# getting a model from the structure\n",
    "model = structure[0]\n",
    "# getting a chain from the model\n",
    "chain = model[\"A\"]\n",
    "# obtaining a first residue from the chain\n",
    "residue_first = chain[2]"
   ]
  },
  {
   "cell_type": "code",
   "execution_count": 18,
   "id": "tamil-capital",
   "metadata": {},
   "outputs": [
    {
     "name": "stdout",
     "output_type": "stream",
     "text": [
      "First residue name: <Residue GLU het=  resseq=2 icode= >\n"
     ]
    },
    {
     "data": {
      "text/plain": [
       "[<Disordered Atom N>,\n",
       " <Disordered Atom CA>,\n",
       " <Disordered Atom C>,\n",
       " <Disordered Atom O>,\n",
       " <Disordered Atom CB>,\n",
       " <Disordered Atom CG>,\n",
       " <Disordered Atom CD>,\n",
       " <Disordered Atom OE1>,\n",
       " <Disordered Atom OE2>,\n",
       " <Disordered Atom HA>,\n",
       " <Disordered Atom HB2>,\n",
       " <Disordered Atom HB3>,\n",
       " <Disordered Atom HG2>,\n",
       " <Disordered Atom HG3>]"
      ]
     },
     "execution_count": 18,
     "metadata": {},
     "output_type": "execute_result"
    }
   ],
   "source": [
    "print(\"First residue name: {}\".format(residue_first))\n",
    "# getting a list of atoms in the residue\n",
    "residue_first.get_list()"
   ]
  },
  {
   "cell_type": "code",
   "execution_count": 19,
   "id": "level-administration",
   "metadata": {},
   "outputs": [
    {
     "name": "stdout",
     "output_type": "stream",
     "text": [
      "First residue name: <Residue GLU het=  resseq=170 icode= >\n"
     ]
    },
    {
     "data": {
      "text/plain": [
       "[<Disordered Atom N>,\n",
       " <Disordered Atom CA>,\n",
       " <Disordered Atom C>,\n",
       " <Disordered Atom O>,\n",
       " <Disordered Atom CB>,\n",
       " <Disordered Atom CG>,\n",
       " <Disordered Atom CD>,\n",
       " <Disordered Atom OE1>,\n",
       " <Disordered Atom OE2>,\n",
       " <Disordered Atom OXT>,\n",
       " <Disordered Atom H>,\n",
       " <Disordered Atom HA>,\n",
       " <Disordered Atom HB2>,\n",
       " <Disordered Atom HB3>,\n",
       " <Disordered Atom HG2>,\n",
       " <Disordered Atom HG3>]"
      ]
     },
     "execution_count": 19,
     "metadata": {},
     "output_type": "execute_result"
    }
   ],
   "source": [
    "# obtaining the last residue from the chain\n",
    "residue_last = chain[170]\n",
    "print(\"First residue name: {}\".format(residue_last))\n",
    "# getting a list of atoms in the residue\n",
    "residue_last.get_list()"
   ]
  },
  {
   "cell_type": "code",
   "execution_count": 20,
   "id": "tested-counter",
   "metadata": {},
   "outputs": [
    {
     "ename": "NameError",
     "evalue": "name 'nglview' is not defined",
     "output_type": "error",
     "traceback": [
      "\u001b[0;31m---------------------------------------------------------------------------\u001b[0m",
      "\u001b[0;31mNameError\u001b[0m                                 Traceback (most recent call last)",
      "\u001b[0;32m/scratch/gsergei/ipykernel_104131/2873261766.py\u001b[0m in \u001b[0;36m<module>\u001b[0;34m\u001b[0m\n\u001b[1;32m      1\u001b[0m \u001b[0;31m# demonstrate the structure of the protein visually\u001b[0m\u001b[0;34m\u001b[0m\u001b[0;34m\u001b[0m\u001b[0;34m\u001b[0m\u001b[0m\n\u001b[1;32m      2\u001b[0m \u001b[0;31m# though it is not working in my notebook for some reason\u001b[0m\u001b[0;34m\u001b[0m\u001b[0;34m\u001b[0m\u001b[0;34m\u001b[0m\u001b[0m\n\u001b[0;32m----> 3\u001b[0;31m \u001b[0mview_target\u001b[0m \u001b[0;34m=\u001b[0m \u001b[0mnglview\u001b[0m\u001b[0;34m.\u001b[0m\u001b[0mshow_file\u001b[0m\u001b[0;34m(\u001b[0m\u001b[0;34m\"Task/target.pdb\"\u001b[0m\u001b[0;34m)\u001b[0m\u001b[0;34m\u001b[0m\u001b[0;34m\u001b[0m\u001b[0m\n\u001b[0m\u001b[1;32m      4\u001b[0m \u001b[0mview_target\u001b[0m\u001b[0;34m.\u001b[0m\u001b[0mrender_image\u001b[0m\u001b[0;34m(\u001b[0m\u001b[0;34m)\u001b[0m\u001b[0;34m\u001b[0m\u001b[0;34m\u001b[0m\u001b[0m\n\u001b[1;32m      5\u001b[0m \u001b[0mview_target\u001b[0m\u001b[0;34m.\u001b[0m\u001b[0m_display_image\u001b[0m\u001b[0;34m(\u001b[0m\u001b[0;34m)\u001b[0m\u001b[0;34m\u001b[0m\u001b[0;34m\u001b[0m\u001b[0m\n",
      "\u001b[0;31mNameError\u001b[0m: name 'nglview' is not defined"
     ]
    }
   ],
   "source": [
    "# demonstrate the structure of the protein visually\n",
    "# though it is not working in my notebook for some reason\n",
    "view_target = nglview.show_file(\"Task/target.pdb\")\n",
    "view_target.render_image()\n",
    "view_target._display_image()"
   ]
  },
  {
   "cell_type": "markdown",
   "id": "incoming-church",
   "metadata": {},
   "source": [
    "## Generating matrices of features from SMILES strings"
   ]
  },
  {
   "cell_type": "code",
   "execution_count": 21,
   "id": "perceived-letters",
   "metadata": {},
   "outputs": [],
   "source": [
    "import numpy as np\n",
    "import pandas as pd\n",
    "import matplotlib.pyplot as plt\n",
    "from rdkit import Chem, DataStructs\n",
    "from rdkit.Chem import PandasTools, AllChem\n",
    "from sklearn.preprocessing import StandardScaler\n",
    "from sklearn.model_selection import train_test_split\n",
    "import torch\n",
    "import torch.nn as nn\n",
    "from torch.utils.data import Dataset\n",
    "from torch.optim.lr_scheduler import ReduceLROnPlateau"
   ]
  },
  {
   "cell_type": "code",
   "execution_count": 22,
   "id": "silver-blade",
   "metadata": {},
   "outputs": [],
   "source": [
    "PandasTools.AddMoleculeColumnToFrame(train_csv, 'Smiles', 'Molecule')"
   ]
  },
  {
   "cell_type": "code",
   "execution_count": 23,
   "id": "boxed-fantasy",
   "metadata": {},
   "outputs": [
    {
     "data": {
      "text/html": [
       "<div>\n",
       "<style scoped>\n",
       "    .dataframe tbody tr th:only-of-type {\n",
       "        vertical-align: middle;\n",
       "    }\n",
       "\n",
       "    .dataframe tbody tr th {\n",
       "        vertical-align: top;\n",
       "    }\n",
       "\n",
       "    .dataframe thead th {\n",
       "        text-align: right;\n",
       "    }\n",
       "</style>\n",
       "<table border=\"1\" class=\"dataframe\">\n",
       "  <thead>\n",
       "    <tr style=\"text-align: right;\">\n",
       "      <th></th>\n",
       "      <th>Smiles</th>\n",
       "      <th>Molecule</th>\n",
       "    </tr>\n",
       "  </thead>\n",
       "  <tbody>\n",
       "    <tr>\n",
       "      <th>0</th>\n",
       "      <td>COc1ccc2[nH]cc(CCN)c2c1</td>\n",
       "      <td><img data-content=\"rdkit/molecule\" src=\"data:image/png;base64,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\" alt=\"Mol\"/></td>\n",
       "    </tr>\n",
       "  </tbody>\n",
       "</table>\n",
       "</div>"
      ],
      "text/plain": [
       "                    Smiles                                           Molecule\n",
       "0  COc1ccc2[nH]cc(CCN)c2c1  <img data-content=\"rdkit/molecule\" src=\"data:i..."
      ]
     },
     "execution_count": 23,
     "metadata": {},
     "output_type": "execute_result"
    }
   ],
   "source": [
    "train_csv[['Smiles', 'Molecule']].head(1)"
   ]
  },
  {
   "cell_type": "code",
   "execution_count": 24,
   "id": "collect-anxiety",
   "metadata": {},
   "outputs": [],
   "source": [
    "from molvecgen.vectorizers import SmilesVectorizer"
   ]
  },
  {
   "cell_type": "code",
   "execution_count": 25,
   "id": "apparent-waste",
   "metadata": {},
   "outputs": [],
   "source": [
    "smivec = SmilesVectorizer(pad=1, leftpad=True, canonical=False, augment=True)"
   ]
  },
  {
   "cell_type": "code",
   "execution_count": 26,
   "id": "infrared-comfort",
   "metadata": {},
   "outputs": [
    {
     "data": {
      "text/plain": [
       "<molvecgen.vectorizers.SmilesVectorizer at 0x2b5afede9690>"
      ]
     },
     "execution_count": 26,
     "metadata": {},
     "output_type": "execute_result"
    }
   ],
   "source": [
    "smivec"
   ]
  },
  {
   "cell_type": "code",
   "execution_count": 27,
   "id": "accepting-psychology",
   "metadata": {},
   "outputs": [
    {
     "data": {
      "text/plain": [
       "5557"
      ]
     },
     "execution_count": 27,
     "metadata": {},
     "output_type": "execute_result"
    }
   ],
   "source": [
    "len(train_csv.Molecule.values)"
   ]
  },
  {
   "cell_type": "code",
   "execution_count": 28,
   "id": "worst-suspension",
   "metadata": {},
   "outputs": [],
   "source": [
    "smivec.fit(train_csv.Molecule.values, )"
   ]
  },
  {
   "cell_type": "code",
   "execution_count": 29,
   "id": "beautiful-heater",
   "metadata": {},
   "outputs": [],
   "source": [
    "y = train_csv.Active.values.reshape((-1,1))\n",
    "X = train_csv.Molecule.values\n",
    "# X_train, X_test, y_train, y_test = train_test_split(X, y,  test_size=0.10, random_state=42)\n",
    "X_train, X_validation, y_train, y_validation = train_test_split(X_train, y_train,  test_size=0.05, random_state=42)\n",
    "#Normalizing output using standard scaling\n",
    "scaler = StandardScaler()\n",
    "y_train = scaler.fit_transform(y_train)\n",
    "y_test = scaler.transform(y_test)\n",
    "y_validation = scaler.transform(y_validation)"
   ]
  },
  {
   "cell_type": "code",
   "execution_count": 30,
   "id": "laughing-symphony",
   "metadata": {},
   "outputs": [],
   "source": [
    "# wrapping a SMILES vectorizer in a dataset\n",
    "class SMILESMolDataset(Dataset):\n",
    "    def __init__(self, molecules, y, vectorizer):\n",
    "        self.molecules = molecules\n",
    "        self.y = y\n",
    "        self.vectorizer = vectorizer\n",
    "    def __len__(self):\n",
    "        return len(self.molecules)\n",
    "    def __getitem__(self, idx):\n",
    "        if torch.is_tensor(idx):\n",
    "            idx = idx.tolist()\n",
    "             \n",
    "        mols = self.molecules[idx]\n",
    "         \n",
    "        #The vectorizer was written to work with batches, \n",
    "        #but PyTorch datasets unfortunately works with single samples\n",
    "        sample = self.vectorizer.transform([mols])[0]\n",
    "        label = self.y[idx]\n",
    "        return sample, label"
   ]
  },
  {
   "cell_type": "code",
   "execution_count": 31,
   "id": "bulgarian-sculpture",
   "metadata": {},
   "outputs": [],
   "source": [
    "train_dataset = SMILESMolDataset(X_train, y_train, smivec)"
   ]
  },
  {
   "cell_type": "code",
   "execution_count": 32,
   "id": "homeless-lounge",
   "metadata": {},
   "outputs": [
    {
     "data": {
      "text/plain": [
       "(array([[0, 0, 0, ..., 0, 0, 0],\n",
       "        [0, 0, 0, ..., 0, 0, 0],\n",
       "        [0, 0, 0, ..., 0, 0, 0],\n",
       "        ...,\n",
       "        [0, 0, 0, ..., 0, 0, 0],\n",
       "        [0, 0, 0, ..., 0, 0, 0],\n",
       "        [0, 0, 0, ..., 0, 1, 0]], dtype=int8),\n",
       " array([-0.19207162]))"
      ]
     },
     "execution_count": 32,
     "metadata": {},
     "output_type": "execute_result"
    }
   ],
   "source": [
    "train_dataset[0]"
   ]
  },
  {
   "cell_type": "markdown",
   "id": "771e266a",
   "metadata": {},
   "source": [
    "## Allocating validation sets to GPU"
   ]
  },
  {
   "cell_type": "code",
   "execution_count": 33,
   "id": "2d8e5ed2",
   "metadata": {},
   "outputs": [
    {
     "name": "stdout",
     "output_type": "stream",
     "text": [
      "cuda:0\n"
     ]
    },
    {
     "data": {
      "text/plain": [
       "torch.Size([251, 599, 48])"
      ]
     },
     "execution_count": 33,
     "metadata": {},
     "output_type": "execute_result"
    }
   ],
   "source": [
    "device = torch.device(\"cuda:0\" if torch.cuda.is_available() else \"cpu\")\n",
    "print(device)\n",
    "X_validation_t = smivec.transform(X_validation, canonical=False)\n",
    "X_validation_t = torch.tensor(X_validation_t, device=device).float()\n",
    "y_validation_t = torch.tensor(y_validation, device=device).float()\n",
    "X_validation_t.shape"
   ]
  },
  {
   "cell_type": "markdown",
   "id": "6c3bf0ff",
   "metadata": {},
   "source": [
    "## Defining molecular LSTM class"
   ]
  },
  {
   "cell_type": "code",
   "execution_count": 34,
   "id": "ca469928",
   "metadata": {},
   "outputs": [],
   "source": [
    "class Net(nn.Module):\n",
    "    def __init__(self, dimensions, lstm_size, hidden_size, dropout_rate, out_size):\n",
    "        super(Net, self).__init__()\n",
    "         \n",
    "        length = dims[0]\n",
    "        number_tokens = dims[1]\n",
    "         \n",
    "     \n",
    "        self.lstm = nn.LSTM(input_size=number_tokens, hidden_size=lstm_size, num_layers=1, batch_first=True, bidirectional=False)\n",
    "        self.fc1 = nn.Linear(lstm_size, hidden_size) # Output layer\n",
    "        self.activation = nn.ReLU() # Non-Linear ReLU Layer       \n",
    "        self.fc_out = nn.Linear(hidden_size, out_size) # Output layer\n",
    "        self.dropout = nn.Dropout(dropout_rate)\n",
    "     \n",
    "    def forward(self, x):# Forward pass: stacking each layer together\n",
    "        out, (h_n, c_n) = self.lstm(x) #LSTM network reads in one-hot-encoded SMILES, h_n is last output, out is for all timesteps\n",
    "        out = self.dropout(h_n) #Dropout\n",
    "        out = self.fc1(out) # Pass into the hidden layer\n",
    "        out = self.activation(out) # Use ReLU on hidden activation\n",
    "        out = self.dropout(out) # dropout\n",
    "        out = self.fc_out(out) # Use a linear layer for the output\n",
    "        return out"
   ]
  },
  {
   "cell_type": "code",
   "execution_count": 36,
   "id": "a52f7580",
   "metadata": {},
   "outputs": [
    {
     "data": {
      "text/plain": [
       "Net(\n",
       "  (lstm): LSTM(48, 128, batch_first=True)\n",
       "  (fc1): Linear(in_features=128, out_features=128, bias=True)\n",
       "  (activation): ReLU()\n",
       "  (fc_out): Linear(in_features=128, out_features=1, bias=True)\n",
       "  (dropout): Dropout(p=0.5, inplace=False)\n",
       ")"
      ]
     },
     "execution_count": 36,
     "metadata": {},
     "output_type": "execute_result"
    }
   ],
   "source": [
    "epochs = 750\n",
    "dims = smivec.dims\n",
    "lstm_size = 128  # The size of the LSTM layer\n",
    "hidden_size = 128  # The size of the hidden non-linear layer\n",
    "dropout_rate = 0.50 # The dropout rate\n",
    "output_size = 1        # This is just a single task, so this will be one\n",
    "batch_size = 128   # The mini_batch size during training\n",
    "learning_rate = 0.003  # The initial learning rate for the optimizer\n",
    "\n",
    "\t\n",
    "model = Net(smivec, lstm_size, hidden_size, dropout_rate, output_size)\n",
    "model.cuda()"
   ]
  },
  {
   "cell_type": "code",
   "execution_count": 37,
   "id": "c8f8175b",
   "metadata": {},
   "outputs": [
    {
     "data": {
      "text/plain": [
       "tensor([[[0.0365]]], device='cuda:0', grad_fn=<AddBackward0>)"
      ]
     },
     "execution_count": 37,
     "metadata": {},
     "output_type": "execute_result"
    }
   ],
   "source": [
    "pred = model.forward(X_validation_t[10:11])\n",
    "pred"
   ]
  },
  {
   "cell_type": "code",
   "execution_count": 40,
   "id": "79140e9d",
   "metadata": {},
   "outputs": [],
   "source": [
    "criterion = nn.MSELoss()\n",
    "optimizer = torch.optim.Adam(model.parameters(), lr=learning_rate)\n",
    "lr_scheduler = ReduceLROnPlateau(optimizer, mode='min', factor=0.5,\n",
    "                                patience=50, verbose=True, threshold=0.0001,\n",
    "                                threshold_mode='rel', cooldown=0, min_lr=1e-6, eps=1e-08)"
   ]
  },
  {
   "cell_type": "code",
   "execution_count": 42,
   "id": "6d60df05",
   "metadata": {},
   "outputs": [],
   "source": [
    "train_loader = torch.utils.data.DataLoader(dataset=train_dataset,\n",
    "                                          batch_size=batch_size,\n",
    "                                          shuffle=True, num_workers=4)"
   ]
  },
  {
   "cell_type": "code",
   "execution_count": 43,
   "id": "2ab9a9fb",
   "metadata": {},
   "outputs": [],
   "source": [
    "for smiles, labels in train_loader:\n",
    "    break"
   ]
  },
  {
   "cell_type": "code",
   "execution_count": 47,
   "id": "57602a7e",
   "metadata": {
    "scrolled": true
   },
   "outputs": [
    {
     "name": "stderr",
     "output_type": "stream",
     "text": [
      "/scratch/gsergei/anaconda3/envs/challenge_22feb_cov19/lib/python3.7/site-packages/ipykernel_launcher.py:8: UserWarning: To copy construct from a tensor, it is recommended to use sourceTensor.clone().detach() or sourceTensor.clone().detach().requires_grad_(True), rather than torch.tensor(sourceTensor).\n",
      "  \n",
      "/scratch/gsergei/anaconda3/envs/challenge_22feb_cov19/lib/python3.7/site-packages/ipykernel_launcher.py:9: UserWarning: To copy construct from a tensor, it is recommended to use sourceTensor.clone().detach() or sourceTensor.clone().detach().requires_grad_(True), rather than torch.tensor(sourceTensor).\n",
      "  if __name__ == '__main__':\n"
     ]
    },
    {
     "name": "stdout",
     "output_type": "stream",
     "text": [
      "Epoch 10, Training loss: 0.87 Validation loss: 1.69\n",
      "Epoch 20, Training loss: 0.85 Validation loss: 1.68\n",
      "Epoch 30, Training loss: 0.81 Validation loss: 1.70\n",
      "Epoch 40, Training loss: 0.80 Validation loss: 1.66\n",
      "Epoch 50, Training loss: 0.85 Validation loss: 1.70\n",
      "Epoch    92: reducing learning rate of group 0 to 1.5000e-03.\n",
      "Epoch 60, Training loss: 0.75 Validation loss: 1.68\n",
      "Epoch 70, Training loss: 0.76 Validation loss: 1.68\n",
      "Epoch 80, Training loss: 0.74 Validation loss: 1.68\n",
      "Epoch 90, Training loss: 0.74 Validation loss: 1.69\n",
      "Epoch 100, Training loss: 0.77 Validation loss: 1.68\n",
      "Epoch   143: reducing learning rate of group 0 to 7.5000e-04.\n",
      "Epoch 110, Training loss: 0.74 Validation loss: 1.68\n",
      "Epoch 120, Training loss: 0.70 Validation loss: 1.72\n",
      "Epoch 130, Training loss: 0.76 Validation loss: 1.69\n",
      "Epoch 140, Training loss: 0.75 Validation loss: 1.72\n",
      "Epoch 150, Training loss: 0.70 Validation loss: 1.72\n",
      "Epoch   194: reducing learning rate of group 0 to 3.7500e-04.\n",
      "Epoch 160, Training loss: 0.71 Validation loss: 1.72\n",
      "Epoch 170, Training loss: 0.70 Validation loss: 1.74\n",
      "Epoch 180, Training loss: 0.74 Validation loss: 1.73\n",
      "Epoch 190, Training loss: 0.69 Validation loss: 1.74\n",
      "Epoch 200, Training loss: 0.75 Validation loss: 1.74\n",
      "Epoch   245: reducing learning rate of group 0 to 1.8750e-04.\n",
      "Epoch 210, Training loss: 0.69 Validation loss: 1.74\n",
      "Epoch 220, Training loss: 0.69 Validation loss: 1.75\n",
      "Epoch 230, Training loss: 0.67 Validation loss: 1.75\n",
      "Epoch 240, Training loss: 0.70 Validation loss: 1.75\n",
      "Epoch 250, Training loss: 0.68 Validation loss: 1.75\n",
      "Epoch   296: reducing learning rate of group 0 to 9.3750e-05.\n",
      "Epoch 260, Training loss: 0.68 Validation loss: 1.75\n",
      "Epoch 270, Training loss: 0.65 Validation loss: 1.75\n",
      "Epoch 280, Training loss: 0.69 Validation loss: 1.74\n",
      "Epoch 290, Training loss: 0.71 Validation loss: 1.75\n",
      "Epoch 300, Training loss: 0.68 Validation loss: 1.75\n",
      "Epoch   347: reducing learning rate of group 0 to 4.6875e-05.\n",
      "Epoch 310, Training loss: 0.73 Validation loss: 1.75\n",
      "Epoch 320, Training loss: 0.65 Validation loss: 1.74\n",
      "Epoch 330, Training loss: 0.66 Validation loss: 1.75\n",
      "Epoch 340, Training loss: 0.68 Validation loss: 1.75\n",
      "Epoch 350, Training loss: 0.68 Validation loss: 1.75\n",
      "Epoch   398: reducing learning rate of group 0 to 2.3438e-05.\n",
      "Epoch 360, Training loss: 0.67 Validation loss: 1.75\n",
      "Epoch 370, Training loss: 0.66 Validation loss: 1.75\n",
      "Epoch 380, Training loss: 0.75 Validation loss: 1.75\n",
      "Epoch 390, Training loss: 0.69 Validation loss: 1.75\n",
      "Epoch 400, Training loss: 0.67 Validation loss: 1.75\n",
      "Epoch   449: reducing learning rate of group 0 to 1.1719e-05.\n",
      "Epoch 410, Training loss: 0.64 Validation loss: 1.75\n",
      "Epoch 420, Training loss: 0.67 Validation loss: 1.75\n",
      "Epoch 430, Training loss: 0.66 Validation loss: 1.75\n",
      "Epoch 440, Training loss: 0.71 Validation loss: 1.75\n",
      "Epoch 450, Training loss: 0.67 Validation loss: 1.75\n",
      "Epoch   500: reducing learning rate of group 0 to 5.8594e-06.\n",
      "Epoch 460, Training loss: 0.68 Validation loss: 1.75\n",
      "Epoch 470, Training loss: 0.73 Validation loss: 1.75\n",
      "Epoch 480, Training loss: 0.67 Validation loss: 1.75\n",
      "Epoch 490, Training loss: 0.68 Validation loss: 1.75\n",
      "Epoch 500, Training loss: 0.68 Validation loss: 1.75\n",
      "Epoch   551: reducing learning rate of group 0 to 2.9297e-06.\n",
      "Epoch 510, Training loss: 0.70 Validation loss: 1.75\n",
      "Epoch 520, Training loss: 0.72 Validation loss: 1.75\n",
      "Epoch 530, Training loss: 0.68 Validation loss: 1.75\n",
      "Epoch 540, Training loss: 0.68 Validation loss: 1.75\n",
      "Epoch 550, Training loss: 0.71 Validation loss: 1.75\n",
      "Epoch 560, Training loss: 0.74 Validation loss: 1.75\n",
      "Epoch   602: reducing learning rate of group 0 to 1.4648e-06.\n",
      "Epoch 570, Training loss: 0.66 Validation loss: 1.75\n",
      "Epoch 580, Training loss: 0.68 Validation loss: 1.75\n",
      "Epoch 590, Training loss: 0.73 Validation loss: 1.75\n",
      "Epoch 600, Training loss: 0.69 Validation loss: 1.75\n",
      "Epoch 610, Training loss: 0.67 Validation loss: 1.75\n",
      "Epoch   653: reducing learning rate of group 0 to 1.0000e-06.\n",
      "Epoch 620, Training loss: 0.69 Validation loss: 1.75\n",
      "Epoch 630, Training loss: 0.67 Validation loss: 1.75\n",
      "Epoch 640, Training loss: 0.75 Validation loss: 1.75\n",
      "Epoch 650, Training loss: 0.70 Validation loss: 1.75\n",
      "Epoch 660, Training loss: 0.69 Validation loss: 1.75\n",
      "Epoch 670, Training loss: 0.65 Validation loss: 1.75\n",
      "Epoch 680, Training loss: 0.70 Validation loss: 1.75\n",
      "Epoch 690, Training loss: 0.68 Validation loss: 1.75\n",
      "Epoch 700, Training loss: 0.73 Validation loss: 1.75\n",
      "Epoch 710, Training loss: 0.73 Validation loss: 1.75\n",
      "Epoch 720, Training loss: 0.67 Validation loss: 1.75\n",
      "Epoch 730, Training loss: 0.69 Validation loss: 1.75\n",
      "Epoch 740, Training loss: 0.68 Validation loss: 1.75\n",
      "Epoch 750, Training loss: 0.71 Validation loss: 1.75\n"
     ]
    }
   ],
   "source": [
    "model.train() #Ensure the network is in \"train\" mode with dropouts active\n",
    "train_losses = []\n",
    "validation_losses = []\n",
    "for e in range(epochs):\n",
    "    running_loss = 0\n",
    "    for smiles, labels in train_loader:\n",
    "        # Push numpy to CUDA tensors \n",
    "        smiles = torch.tensor(smiles, device=device).float()\n",
    "        labels = torch.tensor(labels, device=device).float()\n",
    "        # Training pass\n",
    "        optimizer.zero_grad() # Initialize the gradients, which will be recorded during the forward pass\n",
    "         \n",
    "        output = model(smiles) #Forward pass of the mini-batch\n",
    "        loss = criterion(output, labels) #Computing the loss\n",
    "        loss.backward() # calculate the backward pass\n",
    "        torch.nn.utils.clip_grad_norm_(model.parameters(), 1)\n",
    "        optimizer.step() # Optimize the weights\n",
    "         \n",
    "        running_loss += loss.item()\n",
    "    else:\n",
    "         \n",
    "         \n",
    "        model.eval()\n",
    "        validation_loss = torch.mean(( y_validation_t - model(X_validation_t) )**2).item()\n",
    "        model.train()\n",
    "         \n",
    "        lr_scheduler.step(validation_loss)\n",
    "         \n",
    "        train_loss = running_loss/len(train_loader)\n",
    "        train_losses.append(train_loss)\n",
    "        validation_losses.append(validation_loss)\n",
    "        if (e+1) % 10 == 0:\n",
    "            print(\"Epoch %i, Training loss: %0.2F Validation loss: %0.2F\"%(e + 1, train_loss, validation_loss))\n",
    "            torch.save(model.state_dict(), os.path.join('/scratch/gsergei/checkpoints/challenge_22feb_cov19',\n",
    "                                                       \"cp_%i.pth\" % e))"
   ]
  },
  {
   "cell_type": "code",
   "execution_count": 74,
   "id": "06b36c9f",
   "metadata": {},
   "outputs": [
    {
     "name": "stdout",
     "output_type": "stream",
     "text": [
      "cuda:0\n"
     ]
    }
   ],
   "source": [
    "device = torch.device(\"cuda:0\" if torch.cuda.is_available() else \"cpu\")\n",
    "print(device)"
   ]
  },
  {
   "cell_type": "code",
   "execution_count": 77,
   "id": "3ae5c4c9",
   "metadata": {},
   "outputs": [],
   "source": [
    "X_train_T = smivec.transform(X_train, canonical=False)"
   ]
  },
  {
   "cell_type": "code",
   "execution_count": 81,
   "id": "47e058f5",
   "metadata": {},
   "outputs": [
    {
     "data": {
      "text/plain": [
       "'Tesla V100-SXM2-32GB'"
      ]
     },
     "execution_count": 81,
     "metadata": {},
     "output_type": "execute_result"
    }
   ],
   "source": [
    "torch.cuda.get_device_name()"
   ]
  },
  {
   "cell_type": "code",
   "execution_count": 82,
   "id": "09bf61f7",
   "metadata": {},
   "outputs": [
    {
     "data": {
      "text/plain": [
       "numpy.ndarray"
      ]
     },
     "execution_count": 82,
     "metadata": {},
     "output_type": "execute_result"
    }
   ],
   "source": [
    "type(X_train_T)"
   ]
  },
  {
   "cell_type": "code",
   "execution_count": 83,
   "id": "a64e23bc",
   "metadata": {},
   "outputs": [],
   "source": [
    "X_train_T = torch.Tensor(X_train_T).float()"
   ]
  },
  {
   "cell_type": "code",
   "execution_count": 84,
   "id": "75c75b45",
   "metadata": {},
   "outputs": [
    {
     "data": {
      "text/plain": [
       "tensor([[[0., 0., 0.,  ..., 0., 0., 0.],\n",
       "         [0., 0., 0.,  ..., 0., 0., 0.],\n",
       "         [0., 0., 0.,  ..., 0., 0., 0.],\n",
       "         ...,\n",
       "         [0., 0., 0.,  ..., 0., 0., 0.],\n",
       "         [0., 0., 0.,  ..., 0., 0., 0.],\n",
       "         [0., 0., 0.,  ..., 0., 1., 0.]],\n",
       "\n",
       "        [[0., 0., 0.,  ..., 0., 0., 0.],\n",
       "         [0., 0., 0.,  ..., 0., 0., 0.],\n",
       "         [0., 0., 0.,  ..., 0., 0., 0.],\n",
       "         ...,\n",
       "         [0., 0., 0.,  ..., 0., 0., 0.],\n",
       "         [0., 0., 0.,  ..., 0., 0., 0.],\n",
       "         [0., 0., 0.,  ..., 0., 1., 0.]],\n",
       "\n",
       "        [[0., 0., 0.,  ..., 0., 0., 0.],\n",
       "         [0., 0., 0.,  ..., 0., 0., 0.],\n",
       "         [0., 0., 0.,  ..., 0., 0., 0.],\n",
       "         ...,\n",
       "         [0., 0., 0.,  ..., 0., 0., 0.],\n",
       "         [0., 0., 0.,  ..., 0., 0., 0.],\n",
       "         [0., 0., 0.,  ..., 0., 1., 0.]],\n",
       "\n",
       "        ...,\n",
       "\n",
       "        [[0., 0., 0.,  ..., 0., 0., 0.],\n",
       "         [0., 0., 0.,  ..., 0., 0., 0.],\n",
       "         [0., 0., 0.,  ..., 0., 0., 0.],\n",
       "         ...,\n",
       "         [0., 0., 0.,  ..., 0., 0., 0.],\n",
       "         [0., 0., 0.,  ..., 0., 0., 0.],\n",
       "         [0., 0., 0.,  ..., 0., 1., 0.]],\n",
       "\n",
       "        [[0., 0., 0.,  ..., 0., 0., 0.],\n",
       "         [0., 0., 0.,  ..., 0., 0., 0.],\n",
       "         [0., 0., 0.,  ..., 0., 0., 0.],\n",
       "         ...,\n",
       "         [0., 0., 0.,  ..., 0., 0., 0.],\n",
       "         [0., 0., 0.,  ..., 0., 0., 0.],\n",
       "         [0., 0., 0.,  ..., 0., 1., 0.]],\n",
       "\n",
       "        [[0., 0., 0.,  ..., 0., 0., 0.],\n",
       "         [0., 0., 0.,  ..., 0., 0., 0.],\n",
       "         [0., 0., 0.,  ..., 0., 0., 0.],\n",
       "         ...,\n",
       "         [0., 0., 0.,  ..., 0., 0., 0.],\n",
       "         [0., 0., 0.,  ..., 0., 0., 0.],\n",
       "         [0., 0., 0.,  ..., 0., 1., 0.]]], device='cuda:0')"
      ]
     },
     "execution_count": 84,
     "metadata": {},
     "output_type": "execute_result"
    }
   ],
   "source": [
    "X_train_T.to(device)"
   ]
  },
  {
   "cell_type": "code",
   "execution_count": 86,
   "id": "cb6b4795",
   "metadata": {},
   "outputs": [],
   "source": [
    "X_train_T = torch.Tensor(smivec.transform(X_train, canonical=False)).float()\n",
    "X_train_T = X_train_T.to(device)\n",
    "X_validation_T = torch.Tensor(smivec.transform(X_validation)).float()\n",
    "X_validation_T = X_validation_T.to(device)\n",
    "X_test_T = torch.Tensor(smivec.transform(X_test)).float()\n",
    "X_test_T = X_test_T.to(device)\n",
    "\n",
    "model.eval() #Swith to evaluation mode, where dropout is switched off\n",
    "y_pred_train = model(X_train_T)\n",
    "y_pred_validation = model(X_validation_T)\n",
    "y_pred_test = model(X_test_T)"
   ]
  },
  {
   "cell_type": "code",
   "execution_count": 89,
   "id": "12e8ae16",
   "metadata": {},
   "outputs": [
    {
     "data": {
      "text/plain": [
       "0.674541711807251"
      ]
     },
     "execution_count": 89,
     "metadata": {},
     "output_type": "execute_result"
    }
   ],
   "source": [
    "torch.mean(( torch.Tensor(y_train) - y_pred_train.to('cpu'))**2).item()"
   ]
  },
  {
   "cell_type": "code",
   "execution_count": 90,
   "id": "14f650cd",
   "metadata": {},
   "outputs": [
    {
     "data": {
      "text/plain": [
       "1.7040613889694214"
      ]
     },
     "execution_count": 90,
     "metadata": {},
     "output_type": "execute_result"
    }
   ],
   "source": [
    "torch.mean(( torch.Tensor(y_validation) - y_pred_validation.to('cpu') )**2).item()"
   ]
  },
  {
   "cell_type": "code",
   "execution_count": 91,
   "id": "d25bb5c4",
   "metadata": {},
   "outputs": [
    {
     "data": {
      "text/plain": [
       "1.198073387145996"
      ]
     },
     "execution_count": 91,
     "metadata": {},
     "output_type": "execute_result"
    }
   ],
   "source": [
    "torch.mean(( torch.Tensor(y_test) - y_pred_test.to('cpu') )**2).item()"
   ]
  },
  {
   "cell_type": "code",
   "execution_count": 94,
   "id": "71acf06d",
   "metadata": {},
   "outputs": [
    {
     "data": {
      "text/plain": [
       "numpy.ndarray"
      ]
     },
     "execution_count": 94,
     "metadata": {},
     "output_type": "execute_result"
    }
   ],
   "source": [
    "type(y_test)\n",
    "type(y_train)"
   ]
  },
  {
   "cell_type": "code",
   "execution_count": 95,
   "id": "6b9f457b",
   "metadata": {},
   "outputs": [
    {
     "data": {
      "text/plain": [
       "[<matplotlib.lines.Line2D at 0x2b5b06f8ca50>]"
      ]
     },
     "execution_count": 95,
     "metadata": {},
     "output_type": "execute_result"
    },
    {
     "data": {
      "image/png": "[encoded data removed]",
      "text/plain": [
       "<Figure size 432x288 with 1 Axes>"
      ]
     },
     "metadata": {
      "needs_background": "light"
     },
     "output_type": "display_data"
    }
   ],
   "source": [
    "def flatten(tensor):\n",
    "    return tensor.cpu().detach().numpy().flatten()\n",
    "\n",
    "plt.scatter(flatten(y_pred_test), y_test.flatten(), alpha=0.5, label=\"Test\")\n",
    "plt.scatter(flatten(y_pred_train), y_train.flatten(), alpha=0.1, label=\"Train\")\n",
    "plt.legend()\n",
    "plt.plot([-1.5, 1.5], [-1.5,1.5], c=\"b\")"
   ]
  },
  {
   "cell_type": "code",
   "execution_count": null,
   "id": "805470f2",
   "metadata": {},
   "outputs": [],
   "source": []
  }
 ],
 "metadata": {
  "kernelspec": {
   "display_name": "Python 3",
   "language": "python",
   "name": "python3"
  },
  "language_info": {
   "codemirror_mode": {
    "name": "ipython",
    "version": 3
   },
   "file_extension": ".py",
   "mimetype": "text/x-python",
   "name": "python",
   "nbconvert_exporter": "python",
   "pygments_lexer": "ipython3",
   "version": "3.7.11"
  }
 },
 "nbformat": 4,
 "nbformat_minor": 5
}
