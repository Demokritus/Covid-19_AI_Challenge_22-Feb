{
 "cells": [
  {
   "cell_type": "code",
   "execution_count": 6,
   "id": "fc3a8be1",
   "metadata": {},
   "outputs": [
    {
     "name": "stdout",
     "output_type": "stream",
     "text": [
      "Looking in indexes: https://pypi.org/simple, https://pypi.ngc.nvidia.com\n",
      "Collecting pandas\n",
      "  Downloading pandas-1.4.1-cp38-cp38-manylinux_2_17_x86_64.manylinux2014_x86_64.whl (11.7 MB)\n",
      "\u001b[K     |████████████████████████████████| 11.7 MB 14.7 MB/s eta 0:00:01\n",
      "\u001b[?25hRequirement already satisfied: numpy>=1.18.5 in /opt/conda/lib/python3.8/site-packages (from pandas) (1.21.2)\n",
      "Requirement already satisfied: pytz>=2020.1 in /opt/conda/lib/python3.8/site-packages (from pandas) (2021.3)\n",
      "Requirement already satisfied: python-dateutil>=2.8.1 in /opt/conda/lib/python3.8/site-packages (from pandas) (2.8.2)\n",
      "Requirement already satisfied: six>=1.5 in /opt/conda/lib/python3.8/site-packages (from python-dateutil>=2.8.1->pandas) (1.16.0)\n",
      "Installing collected packages: pandas\n",
      "Successfully installed pandas-1.4.1\n",
      "\u001b[33mWARNING: Running pip as the 'root' user can result in broken permissions and conflicting behaviour with the system package manager. It is recommended to use a virtual environment instead: https://pip.pypa.io/warnings/venv\u001b[0m\n"
     ]
    }
   ],
   "source": [
    "!pip install pandas"
   ]
  },
  {
   "cell_type": "code",
   "execution_count": 11,
   "id": "3beeb301",
   "metadata": {},
   "outputs": [
    {
     "name": "stdout",
     "output_type": "stream",
     "text": [
      "Collecting package metadata (current_repodata.json): done\n",
      "Solving environment: done\n",
      "\n",
      "## Package Plan ##\n",
      "\n",
      "  environment location: /opt/conda\n",
      "\n",
      "  added / updated specs:\n",
      "    - rdkit\n",
      "\n",
      "\n",
      "The following packages will be downloaded:\n",
      "\n",
      "    package                    |            build\n",
      "    ---------------------------|-----------------\n",
      "    boost-1.74.0               |   py38h2b96118_5         369 KB  conda-forge\n",
      "    boost-cpp-1.74.0           |       h312852a_4        16.3 MB  conda-forge\n",
      "    brotli-1.0.9               |       h7f98852_6          18 KB  conda-forge\n",
      "    brotli-bin-1.0.9           |       h7f98852_6          19 KB  conda-forge\n",
      "    ca-certificates-2021.10.8  |       ha878542_0         139 KB  conda-forge\n",
      "    cairo-1.16.0               |    h6cf1ce9_1008         1.5 MB  conda-forge\n",
      "    certifi-2021.10.8          |   py38h578d9bd_1         145 KB  conda-forge\n",
      "    conda-4.11.0               |   py38h578d9bd_0        16.9 MB  conda-forge\n",
      "    cycler-0.11.0              |     pyhd8ed1ab_0          10 KB  conda-forge\n",
      "    fontconfig-2.13.96         |       ha180cfb_0         372 KB  conda-forge\n",
      "    fonttools-4.29.1           |   py38h497a2fe_0         1.6 MB  conda-forge\n",
      "    freetype-2.10.4            |       h0708190_1         890 KB  conda-forge\n",
      "    fribidi-1.0.10             |       h36c2ea0_0         112 KB  conda-forge\n",
      "    gettext-0.19.8.1           |    h73d1719_1008         3.6 MB  conda-forge\n",
      "    giflib-5.2.1               |       h36c2ea0_2          77 KB  conda-forge\n",
      "    greenlet-1.1.2             |   py38h709712a_1          90 KB  conda-forge\n",
      "    jbig-2.1                   |    h7f98852_2003          43 KB  conda-forge\n",
      "    jpeg-9e                    |       h7f98852_0         269 KB  conda-forge\n",
      "    kiwisolver-1.3.2           |   py38h1fd1430_1          80 KB  conda-forge\n",
      "    lcms2-2.12                 |       hddcbb42_0         443 KB  conda-forge\n",
      "    lerc-3.0                   |       h9c3ff4c_0         216 KB  conda-forge\n",
      "    libbrotlicommon-1.0.9      |       h7f98852_6          65 KB  conda-forge\n",
      "    libbrotlidec-1.0.9         |       h7f98852_6          33 KB  conda-forge\n",
      "    libbrotlienc-1.0.9         |       h7f98852_6         286 KB  conda-forge\n",
      "    libdeflate-1.8             |       h7f98852_0          67 KB  conda-forge\n",
      "    libglib-2.70.2             |       h174f98d_4         3.1 MB  conda-forge\n",
      "    libimagequant-2.17.0       |       h7f98852_1          48 KB  conda-forge\n",
      "    libpng-1.6.37              |       h21135ba_2         306 KB  conda-forge\n",
      "    libtiff-4.3.0              |       h6f004c6_2         614 KB  conda-forge\n",
      "    libuuid-2.32.1             |    h7f98852_1000          28 KB  conda-forge\n",
      "    libwebp-1.2.2              |       h3452ae3_0          85 KB  conda-forge\n",
      "    libwebp-base-1.2.2         |       h7f98852_1         824 KB  conda-forge\n",
      "    libxcb-1.13                |    h7f98852_1004         391 KB  conda-forge\n",
      "    libzlib-1.2.11             |    h36c2ea0_1013          59 KB  conda-forge\n",
      "    matplotlib-base-3.5.1      |   py38hf4fb855_0         7.4 MB  conda-forge\n",
      "    munkres-1.1.4              |     pyh9f0ad1d_0          12 KB  conda-forge\n",
      "    openjpeg-2.4.0             |       hb52868f_1         444 KB  conda-forge\n",
      "    pandas-1.4.1               |   py38h43a58ef_0        13.3 MB  conda-forge\n",
      "    pcre-8.45                  |       h9c3ff4c_0         253 KB  conda-forge\n",
      "    pillow-9.0.1               |   py38he2f12e7_1        44.7 MB  conda-forge\n",
      "    pixman-0.40.0              |       h36c2ea0_0         627 KB  conda-forge\n",
      "    pthread-stubs-0.4          |    h36c2ea0_1001           5 KB  conda-forge\n",
      "    pycairo-1.20.1             |   py38hf61ee4a_1          83 KB  conda-forge\n",
      "    python-dateutil-2.8.2      |     pyhd8ed1ab_0         240 KB  conda-forge\n",
      "    rdkit-2021.09.4            |   py38h8c3fb5a_0        39.4 MB  conda-forge\n",
      "    reportlab-3.5.68           |   py38hadf75a6_1         2.4 MB  conda-forge\n",
      "    sqlalchemy-1.4.31          |   py38h497a2fe_0         2.3 MB  conda-forge\n",
      "    unicodedata2-14.0.0        |   py38h497a2fe_0         504 KB  conda-forge\n",
      "    xorg-kbproto-1.0.7         |    h7f98852_1002          27 KB  conda-forge\n",
      "    xorg-libice-1.0.10         |       h7f98852_0          58 KB  conda-forge\n",
      "    xorg-libsm-1.2.3           |    hd9c2040_1000          26 KB  conda-forge\n",
      "    xorg-libx11-1.7.2          |       h7f98852_0         941 KB  conda-forge\n",
      "    xorg-libxau-1.0.9          |       h7f98852_0          13 KB  conda-forge\n",
      "    xorg-libxdmcp-1.1.3        |       h7f98852_0          19 KB  conda-forge\n",
      "    xorg-libxext-1.3.4         |       h7f98852_1          54 KB  conda-forge\n",
      "    xorg-libxrender-0.9.10     |    h7f98852_1003          32 KB  conda-forge\n",
      "    xorg-renderproto-0.11.1    |    h7f98852_1002           9 KB  conda-forge\n",
      "    xorg-xextproto-7.3.0       |    h7f98852_1002          28 KB  conda-forge\n",
      "    xorg-xproto-7.0.31         |    h7f98852_1007          73 KB  conda-forge\n",
      "    zlib-1.2.11                |    h36c2ea0_1013          86 KB  conda-forge\n",
      "    ------------------------------------------------------------\n",
      "                                           Total:       161.9 MB\n",
      "\n",
      "The following NEW packages will be INSTALLED:\n",
      "\n",
      "  boost              conda-forge/linux-64::boost-1.74.0-py38h2b96118_5\n",
      "  boost-cpp          conda-forge/linux-64::boost-cpp-1.74.0-h312852a_4\n",
      "  brotli             conda-forge/linux-64::brotli-1.0.9-h7f98852_6\n",
      "  brotli-bin         conda-forge/linux-64::brotli-bin-1.0.9-h7f98852_6\n",
      "  cairo              conda-forge/linux-64::cairo-1.16.0-h6cf1ce9_1008\n",
      "  cycler             conda-forge/noarch::cycler-0.11.0-pyhd8ed1ab_0\n",
      "  fontconfig         conda-forge/linux-64::fontconfig-2.13.96-ha180cfb_0\n",
      "  fonttools          conda-forge/linux-64::fonttools-4.29.1-py38h497a2fe_0\n",
      "  freetype           conda-forge/linux-64::freetype-2.10.4-h0708190_1\n",
      "  fribidi            conda-forge/linux-64::fribidi-1.0.10-h36c2ea0_0\n",
      "  gettext            conda-forge/linux-64::gettext-0.19.8.1-h73d1719_1008\n",
      "  giflib             conda-forge/linux-64::giflib-5.2.1-h36c2ea0_2\n",
      "  greenlet           conda-forge/linux-64::greenlet-1.1.2-py38h709712a_1\n",
      "  jbig               conda-forge/linux-64::jbig-2.1-h7f98852_2003\n",
      "  jpeg               conda-forge/linux-64::jpeg-9e-h7f98852_0\n",
      "  kiwisolver         conda-forge/linux-64::kiwisolver-1.3.2-py38h1fd1430_1\n",
      "  lcms2              conda-forge/linux-64::lcms2-2.12-hddcbb42_0\n",
      "  lerc               conda-forge/linux-64::lerc-3.0-h9c3ff4c_0\n",
      "  libbrotlicommon    conda-forge/linux-64::libbrotlicommon-1.0.9-h7f98852_6\n",
      "  libbrotlidec       conda-forge/linux-64::libbrotlidec-1.0.9-h7f98852_6\n",
      "  libbrotlienc       conda-forge/linux-64::libbrotlienc-1.0.9-h7f98852_6\n",
      "  libdeflate         conda-forge/linux-64::libdeflate-1.8-h7f98852_0\n",
      "  libglib            conda-forge/linux-64::libglib-2.70.2-h174f98d_4\n",
      "  libimagequant      conda-forge/linux-64::libimagequant-2.17.0-h7f98852_1\n",
      "  libpng             conda-forge/linux-64::libpng-1.6.37-h21135ba_2\n",
      "  libtiff            conda-forge/linux-64::libtiff-4.3.0-h6f004c6_2\n",
      "  libuuid            conda-forge/linux-64::libuuid-2.32.1-h7f98852_1000\n",
      "  libwebp            conda-forge/linux-64::libwebp-1.2.2-h3452ae3_0\n",
      "  libwebp-base       conda-forge/linux-64::libwebp-base-1.2.2-h7f98852_1\n",
      "  libxcb             conda-forge/linux-64::libxcb-1.13-h7f98852_1004\n",
      "  libzlib            conda-forge/linux-64::libzlib-1.2.11-h36c2ea0_1013\n",
      "  matplotlib-base    conda-forge/linux-64::matplotlib-base-3.5.1-py38hf4fb855_0\n",
      "  munkres            conda-forge/noarch::munkres-1.1.4-pyh9f0ad1d_0\n",
      "  openjpeg           conda-forge/linux-64::openjpeg-2.4.0-hb52868f_1\n",
      "  pandas             conda-forge/linux-64::pandas-1.4.1-py38h43a58ef_0\n",
      "  pcre               conda-forge/linux-64::pcre-8.45-h9c3ff4c_0\n",
      "  pillow             conda-forge/linux-64::pillow-9.0.1-py38he2f12e7_1\n",
      "  pixman             conda-forge/linux-64::pixman-0.40.0-h36c2ea0_0\n",
      "  pthread-stubs      conda-forge/linux-64::pthread-stubs-0.4-h36c2ea0_1001\n",
      "  pycairo            conda-forge/linux-64::pycairo-1.20.1-py38hf61ee4a_1\n",
      "  python-dateutil    conda-forge/noarch::python-dateutil-2.8.2-pyhd8ed1ab_0\n",
      "  rdkit              conda-forge/linux-64::rdkit-2021.09.4-py38h8c3fb5a_0\n",
      "  reportlab          conda-forge/linux-64::reportlab-3.5.68-py38hadf75a6_1\n",
      "  sqlalchemy         conda-forge/linux-64::sqlalchemy-1.4.31-py38h497a2fe_0\n",
      "  unicodedata2       conda-forge/linux-64::unicodedata2-14.0.0-py38h497a2fe_0\n",
      "  xorg-kbproto       conda-forge/linux-64::xorg-kbproto-1.0.7-h7f98852_1002\n",
      "  xorg-libice        conda-forge/linux-64::xorg-libice-1.0.10-h7f98852_0\n",
      "  xorg-libsm         conda-forge/linux-64::xorg-libsm-1.2.3-hd9c2040_1000\n",
      "  xorg-libx11        conda-forge/linux-64::xorg-libx11-1.7.2-h7f98852_0\n",
      "  xorg-libxau        conda-forge/linux-64::xorg-libxau-1.0.9-h7f98852_0\n",
      "  xorg-libxdmcp      conda-forge/linux-64::xorg-libxdmcp-1.1.3-h7f98852_0\n",
      "  xorg-libxext       conda-forge/linux-64::xorg-libxext-1.3.4-h7f98852_1\n",
      "  xorg-libxrender    conda-forge/linux-64::xorg-libxrender-0.9.10-h7f98852_1003\n",
      "  xorg-renderproto   conda-forge/linux-64::xorg-renderproto-0.11.1-h7f98852_1002\n",
      "  xorg-xextproto     conda-forge/linux-64::xorg-xextproto-7.3.0-h7f98852_1002\n",
      "  xorg-xproto        conda-forge/linux-64::xorg-xproto-7.0.31-h7f98852_1007\n",
      "\n",
      "The following packages will be UPDATED:\n",
      "\n",
      "  ca-certificates                      2021.5.30-ha878542_0 --> 2021.10.8-ha878542_0\n",
      "  certifi                          2021.5.30-py38h578d9bd_0 --> 2021.10.8-py38h578d9bd_1\n",
      "  conda                               4.10.3-py38h578d9bd_2 --> 4.11.0-py38h578d9bd_0\n",
      "  zlib                                 1.2.11-h516909a_1010 --> 1.2.11-h36c2ea0_1013\n",
      "\n",
      "\n",
      "\n",
      "Downloading and Extracting Packages\n",
      "certifi-2021.10.8    | 145 KB    | ##################################### | 100% \n",
      "greenlet-1.1.2       | 90 KB     | ##################################### | 100% \n",
      "libzlib-1.2.11       | 59 KB     | ##################################### | 100% \n",
      "cairo-1.16.0         | 1.5 MB    | ##################################### | 100% \n",
      "freetype-2.10.4      | 890 KB    | ##################################### | 100% \n",
      "fontconfig-2.13.96   | 372 KB    | ##################################### | 100% \n",
      "pthread-stubs-0.4    | 5 KB      | ##################################### | 100% \n",
      "boost-cpp-1.74.0     | 16.3 MB   | ##################################### | 100% \n",
      "conda-4.11.0         | 16.9 MB   | ##################################### | 100% \n",
      "libpng-1.6.37        | 306 KB    | ##################################### | 100% \n",
      "xorg-libxrender-0.9. | 32 KB     | ##################################### | 100% \n",
      "libwebp-1.2.2        | 85 KB     | ##################################### | 100% \n",
      "libtiff-4.3.0        | 614 KB    | ##################################### | 100% \n",
      "openjpeg-2.4.0       | 444 KB    | ##################################### | 100% \n",
      "fribidi-1.0.10       | 112 KB    | ##################################### | 100% \n",
      "libbrotlienc-1.0.9   | 286 KB    | ##################################### | 100% \n",
      "libuuid-2.32.1       | 28 KB     | ##################################### | 100% \n",
      "libdeflate-1.8       | 67 KB     | ##################################### | 100% \n",
      "lcms2-2.12           | 443 KB    | ##################################### | 100% \n",
      "libimagequant-2.17.0 | 48 KB     | ##################################### | 100% \n",
      "python-dateutil-2.8. | 240 KB    | ##################################### | 100% \n",
      "cycler-0.11.0        | 10 KB     | ##################################### | 100% \n",
      "xorg-xextproto-7.3.0 | 28 KB     | ##################################### | 100% \n",
      "libxcb-1.13          | 391 KB    | ##################################### | 100% \n",
      "munkres-1.1.4        | 12 KB     | ##################################### | 100% \n",
      "fonttools-4.29.1     | 1.6 MB    | ##################################### | 100% \n",
      "xorg-libx11-1.7.2    | 941 KB    | ##################################### | 100% \n",
      "xorg-libxext-1.3.4   | 54 KB     | ##################################### | 100% \n",
      "pixman-0.40.0        | 627 KB    | ##################################### | 100% \n",
      "xorg-kbproto-1.0.7   | 27 KB     | ##################################### | 100% \n",
      "libbrotlicommon-1.0. | 65 KB     | ##################################### | 100% \n",
      "libwebp-base-1.2.2   | 824 KB    | ##################################### | 100% \n",
      "boost-1.74.0         | 369 KB    | ##################################### | 100% \n",
      "libglib-2.70.2       | 3.1 MB    | ##################################### | 100% \n",
      "jpeg-9e              | 269 KB    | ##################################### | 100% \n",
      "kiwisolver-1.3.2     | 80 KB     | ##################################### | 100% \n",
      "xorg-renderproto-0.1 | 9 KB      | ##################################### | 100% \n",
      "xorg-libsm-1.2.3     | 26 KB     | ##################################### | 100% \n",
      "libbrotlidec-1.0.9   | 33 KB     | ##################################### | 100% \n",
      "xorg-libice-1.0.10   | 58 KB     | ##################################### | 100% \n",
      "pcre-8.45            | 253 KB    | ##################################### | 100% \n",
      "xorg-libxdmcp-1.1.3  | 19 KB     | ##################################### | 100% \n",
      "xorg-libxau-1.0.9    | 13 KB     | ##################################### | 100% \n",
      "pillow-9.0.1         | 44.7 MB   | ##################################### | 100% \n",
      "gettext-0.19.8.1     | 3.6 MB    | ##################################### | 100% \n",
      "brotli-bin-1.0.9     | 19 KB     | ##################################### | 100% \n",
      "zlib-1.2.11          | 86 KB     | ##################################### | 100% \n",
      "rdkit-2021.09.4      | 39.4 MB   | ##################################### | 100% \n",
      "jbig-2.1             | 43 KB     | ##################################### | 100% \n",
      "unicodedata2-14.0.0  | 504 KB    | ##################################### | 100% \n",
      "lerc-3.0             | 216 KB    | ##################################### | 100% \n",
      "reportlab-3.5.68     | 2.4 MB    | ##################################### | 100% \n",
      "ca-certificates-2021 | 139 KB    | ##################################### | 100% \n",
      "pandas-1.4.1         | 13.3 MB   | ##################################### | 100% \n",
      "sqlalchemy-1.4.31    | 2.3 MB    | ##################################### | 100% \n",
      "brotli-1.0.9         | 18 KB     | ##################################### | 100% \n",
      "xorg-xproto-7.0.31   | 73 KB     | ##################################### | 100% \n",
      "matplotlib-base-3.5. | 7.4 MB    | ##################################### | 100% \n",
      "pycairo-1.20.1       | 83 KB     | ##################################### | 100% \n",
      "giflib-5.2.1         | 77 KB     | ##################################### | 100% \n",
      "Preparing transaction: done\n",
      "Verifying transaction: done\n",
      "Executing transaction: done\n"
     ]
    }
   ],
   "source": [
    "!conda install -c rdkit rdkit -y"
   ]
  },
  {
   "cell_type": "code",
   "execution_count": 15,
   "id": "2771258e",
   "metadata": {},
   "outputs": [
    {
     "name": "stdout",
     "output_type": "stream",
     "text": [
      "Looking in indexes: https://pypi.org/simple, https://pypi.ngc.nvidia.com\n",
      "Collecting transformers\n",
      "  Downloading transformers-4.16.2-py3-none-any.whl (3.5 MB)\n",
      "\u001b[K     |████████████████████████████████| 3.5 MB 18.9 MB/s eta 0:00:01\n",
      "\u001b[?25hCollecting tokenizers!=0.11.3,>=0.10.1\n",
      "  Downloading tokenizers-0.11.5-cp38-cp38-manylinux_2_12_x86_64.manylinux2010_x86_64.whl (6.8 MB)\n",
      "\u001b[K     |████████████████████████████████| 6.8 MB 22.2 MB/s eta 0:00:01\n",
      "\u001b[?25hRequirement already satisfied: requests in /opt/conda/lib/python3.8/site-packages (from transformers) (2.26.0)\n",
      "Collecting huggingface-hub<1.0,>=0.1.0\n",
      "  Downloading huggingface_hub-0.4.0-py3-none-any.whl (67 kB)\n",
      "\u001b[K     |████████████████████████████████| 67 kB 51.6 MB/s eta 0:00:01\n",
      "\u001b[?25hRequirement already satisfied: tqdm>=4.27 in /opt/conda/lib/python3.8/site-packages (from transformers) (4.62.3)\n",
      "Requirement already satisfied: packaging>=20.0 in /opt/conda/lib/python3.8/site-packages (from transformers) (21.0)\n",
      "Requirement already satisfied: numpy>=1.17 in /opt/conda/lib/python3.8/site-packages (from transformers) (1.21.2)\n",
      "Requirement already satisfied: filelock in /opt/conda/lib/python3.8/site-packages (from transformers) (3.3.0)\n",
      "Requirement already satisfied: regex!=2019.12.17 in /opt/conda/lib/python3.8/site-packages (from transformers) (2021.10.8)\n",
      "Requirement already satisfied: sacremoses in /opt/conda/lib/python3.8/site-packages (from transformers) (0.0.46)\n",
      "Requirement already satisfied: pyyaml>=5.1 in /opt/conda/lib/python3.8/site-packages (from transformers) (5.4.1)\n",
      "Requirement already satisfied: typing-extensions>=3.7.4.3 in /opt/conda/lib/python3.8/site-packages (from huggingface-hub<1.0,>=0.1.0->transformers) (3.10.0.2)\n",
      "Requirement already satisfied: pyparsing>=2.0.2 in /opt/conda/lib/python3.8/site-packages (from packaging>=20.0->transformers) (2.4.7)\n",
      "Requirement already satisfied: idna<4,>=2.5 in /opt/conda/lib/python3.8/site-packages (from requests->transformers) (3.1)\n",
      "Requirement already satisfied: charset-normalizer~=2.0.0 in /opt/conda/lib/python3.8/site-packages (from requests->transformers) (2.0.0)\n",
      "Requirement already satisfied: urllib3<1.27,>=1.21.1 in /opt/conda/lib/python3.8/site-packages (from requests->transformers) (1.26.7)\n",
      "Requirement already satisfied: certifi>=2017.4.17 in /opt/conda/lib/python3.8/site-packages (from requests->transformers) (2021.10.8)\n",
      "Requirement already satisfied: six in /opt/conda/lib/python3.8/site-packages (from sacremoses->transformers) (1.16.0)\n",
      "Requirement already satisfied: joblib in /opt/conda/lib/python3.8/site-packages (from sacremoses->transformers) (1.1.0)\n",
      "Requirement already satisfied: click in /opt/conda/lib/python3.8/site-packages (from sacremoses->transformers) (8.0.1)\n",
      "Installing collected packages: tokenizers, huggingface-hub, transformers\n",
      "Successfully installed huggingface-hub-0.4.0 tokenizers-0.11.5 transformers-4.16.2\n",
      "\u001b[33mWARNING: Running pip as the 'root' user can result in broken permissions and conflicting behaviour with the system package manager. It is recommended to use a virtual environment instead: https://pip.pypa.io/warnings/venv\u001b[0m\n"
     ]
    }
   ],
   "source": [
    "!pip install transformers"
   ]
  },
  {
   "cell_type": "code",
   "execution_count": 2,
   "id": "a33cd285",
   "metadata": {},
   "outputs": [],
   "source": [
    "# libraries for handling and visualization of data\n",
    "import numpy as np\n",
    "import pandas as pd\n",
    "import matplotlib.pyplot as plt\n",
    "\n",
    "# R & D imports for chemoinformatics\n",
    "from rdkit import Chem, DataStructs\n",
    "from rdkit.Chem import PandasTools, AllChem\n",
    "from rdkit.Chem import Descriptors\n",
    "from rdkit.ML.Descriptors import MoleculeDescriptors\n",
    "\n",
    "# sklearn imports\n",
    "from sklearn.preprocessing import StandardScaler\n",
    "from sklearn.model_selection import train_test_split\n",
    "from sklearn.model_selection import StratifiedKFold\n",
    "\n",
    "# torch imports\n",
    "import torch\n",
    "import torch.nn as nn\n",
    "from torch.utils.data import Dataset\n",
    "from torch.optim.lr_scheduler import ReduceLROnPlateau\n",
    "from torch.optim import lr_scheduler\n",
    "\n",
    "# utilities\n",
    "from collections import defaultdict\n",
    "# import wandb\n",
    "import time\n",
    "import copy\n",
    "from tqdm import tqdm\n",
    "# from Bio.PDB import PDBParser\n",
    "# from Bio.PDB import parse_pdb_header\n",
    "# import xpdb  # this is the module described below\n",
    "# from Bio import SeqIO\n",
    "# import nglview\n",
    "import gc\n",
    "\n",
    "# optimizer AdamW by HuggingFace\n",
    "from transformers import AdamW"
   ]
  },
  {
   "cell_type": "code",
   "execution_count": 28,
   "id": "7f42fc47",
   "metadata": {},
   "outputs": [],
   "source": [
    "train_csv = pd.read_csv('train.csv', index_col=0)"
   ]
  },
  {
   "cell_type": "code",
   "execution_count": 29,
   "id": "8580734f",
   "metadata": {},
   "outputs": [],
   "source": [
    "test_csv = pd.read_csv('test.csv')"
   ]
  },
  {
   "cell_type": "code",
   "execution_count": 30,
   "id": "09cc18d8",
   "metadata": {},
   "outputs": [],
   "source": [
    "test_data = test_csv"
   ]
  },
  {
   "cell_type": "code",
   "execution_count": 31,
   "id": "c902f9f1",
   "metadata": {},
   "outputs": [
    {
     "data": {
      "text/plain": [
       "Index(['Smiles', 'Active'], dtype='object')"
      ]
     },
     "execution_count": 31,
     "metadata": {},
     "output_type": "execute_result"
    }
   ],
   "source": [
    "train_csv.columns"
   ]
  },
  {
   "cell_type": "markdown",
   "id": "1f50895f",
   "metadata": {},
   "source": [
    "## Generating vectors from SMILES strings"
   ]
  },
  {
   "cell_type": "code",
   "execution_count": 32,
   "id": "a3071340",
   "metadata": {},
   "outputs": [],
   "source": [
    "PandasTools.AddMoleculeColumnToFrame(train_csv, 'Smiles', 'Molecule')"
   ]
  },
  {
   "cell_type": "code",
   "execution_count": 33,
   "id": "d99790be",
   "metadata": {},
   "outputs": [],
   "source": [
    "PandasTools.AddMoleculeColumnToFrame(test_data, 'Smiles', 'Molecule')"
   ]
  },
  {
   "cell_type": "code",
   "execution_count": 11,
   "id": "02e004bc",
   "metadata": {},
   "outputs": [],
   "source": [
    "from molvecgen.vectorizers import SmilesVectorizer"
   ]
  },
  {
   "cell_type": "code",
   "execution_count": 12,
   "id": "7682ed31",
   "metadata": {},
   "outputs": [],
   "source": [
    "smivec = SmilesVectorizer(pad=1, leftpad=True, canonical=False, augment=True)"
   ]
  },
  {
   "cell_type": "code",
   "execution_count": 15,
   "id": "16c58917",
   "metadata": {},
   "outputs": [],
   "source": [
    "smivec.fit(train_csv.Molecule.values, )"
   ]
  },
  {
   "cell_type": "code",
   "execution_count": 17,
   "id": "27763963",
   "metadata": {},
   "outputs": [],
   "source": [
    "# wrapping a SMILES vectorizer in a dataset\n",
    "class SMILESMolDataset(Dataset):\n",
    "    def __init__(self, molecules, y, vectorizer):\n",
    "        self.molecules = molecules\n",
    "        self.y = y\n",
    "        self.vectorizer = vectorizer\n",
    "    def __len__(self):\n",
    "        return len(self.molecules)\n",
    "    def __getitem__(self, idx):\n",
    "        if torch.is_tensor(idx):\n",
    "            idx = idx.tolist()\n",
    "        mols = self.molecules[idx]\n",
    "        # The vectorizer was written to work with batches, \n",
    "        # but PyTorch datasets unfortunately works with single samples\n",
    "        sample = self.vectorizer.transform([mols])[0]\n",
    "        label = self.y[idx]\n",
    "        sample = torch.Tensor(sample).to(torch.float32)\n",
    "        label = torch.Tensor([label]).to(torch.float32)\n",
    "        return sample, label"
   ]
  },
  {
   "cell_type": "markdown",
   "id": "9f2d3fa9",
   "metadata": {},
   "source": [
    "## Automatical generation of molecular descriptors (over 100)"
   ]
  },
  {
   "cell_type": "markdown",
   "id": "31da3c0c",
   "metadata": {},
   "source": [
    "### Defining a class for automatic mol descriptor extraction"
   ]
  },
  {
   "cell_type": "code",
   "execution_count": 34,
   "id": "cddad3ee",
   "metadata": {},
   "outputs": [],
   "source": [
    "class RDKit_2D:\n",
    "    def __init__(self, smiles, active):\n",
    "        self.mols = [Chem.MolFromSmiles(i) for i in smiles]\n",
    "        self.smiles = smiles\n",
    "        self.active = active\n",
    "        \n",
    "    def compute_2Drdkit(self, name):\n",
    "        rdkit_2d_desc = []\n",
    "        calc = MoleculeDescriptors.MolecularDescriptorCalculator([x[0] for x in Descriptors._descList])\n",
    "        header = calc.GetDescriptorNames()\n",
    "        for i in range(len(self.mols)):\n",
    "            ds = calc.CalcDescriptors(self.mols[i])\n",
    "            rdkit_2d_desc.append(ds)\n",
    "        df = pd.DataFrame(rdkit_2d_desc,columns=header)\n",
    "        df.insert(loc=0, column='Smiles', value=self.smiles)\n",
    "        df.insert(loc=1, column='Active', value=self.active)\n",
    "        df.to_csv(name+'_RDKit_2D.csv', index=False)"
   ]
  },
  {
   "cell_type": "code",
   "execution_count": 39,
   "id": "0b3380df",
   "metadata": {},
   "outputs": [],
   "source": [
    "class RDKit_2D_test:\n",
    "    def __init__(self, smiles):\n",
    "        self.mols = [Chem.MolFromSmiles(i) for i in smiles]\n",
    "        self.smiles = smiles\n",
    "        # self.active = active\n",
    "        \n",
    "    def compute_2Drdkit(self, name):\n",
    "        rdkit_2d_desc = []\n",
    "        calc = MoleculeDescriptors.MolecularDescriptorCalculator([x[0] for x in Descriptors._descList])\n",
    "        header = calc.GetDescriptorNames()\n",
    "        for i in range(len(self.mols)):\n",
    "            ds = calc.CalcDescriptors(self.mols[i])\n",
    "            rdkit_2d_desc.append(ds)\n",
    "        df = pd.DataFrame(rdkit_2d_desc,columns=header)\n",
    "        df.insert(loc=0, column='Smiles', value=self.smiles)\n",
    "        # df.insert(loc=1, column='Active', value=self.active)\n",
    "        df.to_csv(name+'_RDKit_2D.csv', index=False)"
   ]
  },
  {
   "cell_type": "markdown",
   "id": "d308470b",
   "metadata": {},
   "source": [
    "### Generating and saving extended pandas dataframes with over 100 molecular descriptors"
   ]
  },
  {
   "cell_type": "code",
   "execution_count": 36,
   "id": "819bb1a9",
   "metadata": {},
   "outputs": [],
   "source": [
    "train_inst_rdkit = RDKit_2D(train_csv['Smiles'], train_csv['Active'])"
   ]
  },
  {
   "cell_type": "code",
   "execution_count": 37,
   "id": "2f564d11",
   "metadata": {},
   "outputs": [],
   "source": [
    "train_inst_rdkit.compute_2Drdkit(\"train_superXxxxx\")"
   ]
  },
  {
   "cell_type": "code",
   "execution_count": 40,
   "id": "a83d707d",
   "metadata": {},
   "outputs": [],
   "source": [
    "test_inst_rdkit = RDKit_2D_test(test_csv['Smiles'])"
   ]
  },
  {
   "cell_type": "code",
   "execution_count": 41,
   "id": "4cc07f78",
   "metadata": {},
   "outputs": [],
   "source": [
    "test_inst_rdkit.compute_2Drdkit(\"test_superXxxxx\")"
   ]
  },
  {
   "cell_type": "markdown",
   "id": "bfd41f10",
   "metadata": {},
   "source": [
    "## Reloading test and train dataframes from CSVs with extended features"
   ]
  },
  {
   "cell_type": "code",
   "execution_count": 44,
   "id": "b89dd0f6",
   "metadata": {},
   "outputs": [],
   "source": [
    "# del train_csv, test_csv\n",
    "train_csv = pd.read_csv('train_superXxxxx_RDKit_2D.csv')\n",
    "test_csv = pd.read_csv('test_superXxxxx_RDKit_2D.csv')\n",
    "# alias for test\n",
    "test_data = test_csv"
   ]
  },
  {
   "cell_type": "markdown",
   "id": "5e72aa44",
   "metadata": {},
   "source": [
    "## Generating folds for cat boost and CV"
   ]
  },
  {
   "cell_type": "code",
   "execution_count": 46,
   "id": "0eb6353b",
   "metadata": {},
   "outputs": [],
   "source": [
    "def create_folds(data, num_splits=3):\n",
    "    if num_splits > 1:\n",
    "        data.loc[:,'kfold'] = -1\n",
    "        X = data['Smiles']\n",
    "        y = data['Active']\n",
    "        mskf = StratifiedKFold(n_splits=num_splits, shuffle=True, random_state=42)\n",
    "\n",
    "        for fold, (trn_, val_) in enumerate(mskf.split(X,y)):\n",
    "            data.loc[val_,'kfold'] = fold\n",
    "    else:\n",
    "        data.loc[:,'kfold'] = 0\n",
    "    return data\n",
    "\n",
    "df = create_folds(train_csv, num_splits = config[\"n_fold\"])"
   ]
  },
  {
   "cell_type": "markdown",
   "id": "374de232",
   "metadata": {},
   "source": [
    "# Catboost model"
   ]
  },
  {
   "cell_type": "code",
   "execution_count": 47,
   "id": "7a0c5deb",
   "metadata": {},
   "outputs": [],
   "source": [
    "from sklearn.model_selection import KFold # k-фолдная валидация\n",
    "from catboost import CatBoostClassifier"
   ]
  },
  {
   "cell_type": "code",
   "execution_count": 49,
   "id": "ff88b2eb",
   "metadata": {},
   "outputs": [],
   "source": [
    "# train => full_data\n",
    "full_data = df\n",
    "# test => test_data\n",
    "# test_data = pd.read_csv('test.csv')\n",
    "\n",
    "full_data = full_data.rename(columns={'Active':'target'})\n",
    "\n",
    "# Добавь сюда нужные фичи => \n",
    "filtered_features = list(calc.GetDescriptorNames())"
   ]
  },
  {
   "cell_type": "code",
   "execution_count": 165,
   "id": "976f047f",
   "metadata": {},
   "outputs": [],
   "source": [
    "fd_copy = pd.DataFrame.copy(full_data)\n",
    "\n",
    "X = fd_copy[filtered_features + ['kfold']]\n",
    "y = full_data[['target', 'kfold']]"
   ]
  },
  {
   "cell_type": "code",
   "execution_count": 51,
   "id": "f8235e0a",
   "metadata": {
    "scrolled": false
   },
   "outputs": [
    {
     "name": "stdout",
     "output_type": "stream",
     "text": [
      "(3704, 208)\n",
      "Learning rate set to 0.016083\n",
      "0:\tlearn: 0.6688602\ttest: 0.6685825\tbest: 0.6685825 (0)\ttotal: 442ms\tremaining: 1h 13m 36s\n",
      "150:\tlearn: 0.1413024\ttest: 0.1485402\tbest: 0.1485402 (150)\ttotal: 20.6s\tremaining: 22m 26s\n",
      "300:\tlearn: 0.1260730\ttest: 0.1416447\tbest: 0.1416347 (299)\ttotal: 49.1s\tremaining: 26m 22s\n",
      "450:\tlearn: 0.1176747\ttest: 0.1376720\tbest: 0.1376720 (450)\ttotal: 1m 14s\tremaining: 26m 13s\n",
      "600:\tlearn: 0.1110409\ttest: 0.1360934\tbest: 0.1360934 (600)\ttotal: 1m 46s\tremaining: 27m 37s\n",
      "750:\tlearn: 0.1040751\ttest: 0.1347155\tbest: 0.1347155 (750)\ttotal: 2m 19s\tremaining: 28m 44s\n",
      "900:\tlearn: 0.0982721\ttest: 0.1333647\tbest: 0.1333647 (900)\ttotal: 2m 53s\tremaining: 29m 15s\n",
      "1050:\tlearn: 0.0929418\ttest: 0.1326028\tbest: 0.1326015 (1047)\ttotal: 3m 27s\tremaining: 29m 30s\n",
      "1200:\tlearn: 0.0882226\ttest: 0.1318778\tbest: 0.1318379 (1180)\ttotal: 3m 59s\tremaining: 29m 16s\n",
      "1350:\tlearn: 0.0836378\ttest: 0.1316214\tbest: 0.1315888 (1339)\ttotal: 4m 31s\tremaining: 28m 56s\n",
      "1500:\tlearn: 0.0797999\ttest: 0.1316645\tbest: 0.1313871 (1468)\ttotal: 5m 2s\tremaining: 28m 33s\n",
      "1650:\tlearn: 0.0748843\ttest: 0.1314431\tbest: 0.1313871 (1468)\ttotal: 5m 35s\tremaining: 28m 18s\n",
      "Stopped by overfitting detector  (200 iterations wait)\n",
      "\n",
      "bestTest = 0.1313870651\n",
      "bestIteration = 1468\n",
      "\n",
      "Shrink model to first 1469 iterations.\n",
      "(3704, 208)\n",
      "Learning rate set to 0.016083\n",
      "0:\tlearn: 0.6692368\ttest: 0.6692436\tbest: 0.6692436 (0)\ttotal: 46.2ms\tremaining: 7m 41s\n",
      "150:\tlearn: 0.1375080\ttest: 0.1497343\tbest: 0.1497343 (150)\ttotal: 19.4s\tremaining: 21m 4s\n",
      "300:\tlearn: 0.1206967\ttest: 0.1443598\tbest: 0.1443598 (300)\ttotal: 48.3s\tremaining: 25m 56s\n",
      "450:\tlearn: 0.1139481\ttest: 0.1428354\tbest: 0.1428354 (450)\ttotal: 1m 14s\tremaining: 26m 17s\n",
      "600:\tlearn: 0.1068561\ttest: 0.1414836\tbest: 0.1413856 (592)\ttotal: 1m 44s\tremaining: 27m 14s\n",
      "750:\tlearn: 0.1011493\ttest: 0.1414396\tbest: 0.1413856 (592)\ttotal: 2m 17s\tremaining: 28m 9s\n",
      "900:\tlearn: 0.0942058\ttest: 0.1414069\tbest: 0.1413672 (759)\ttotal: 2m 50s\tremaining: 28m 43s\n",
      "1050:\tlearn: 0.0868467\ttest: 0.1411596\tbest: 0.1411596 (1050)\ttotal: 3m 23s\tremaining: 28m 48s\n",
      "1200:\tlearn: 0.0817317\ttest: 0.1408042\tbest: 0.1406835 (1181)\ttotal: 3m 55s\tremaining: 28m 45s\n",
      "1350:\tlearn: 0.0769606\ttest: 0.1410333\tbest: 0.1406774 (1210)\ttotal: 4m 28s\tremaining: 28m 39s\n",
      "Stopped by overfitting detector  (210 iterations wait)\n",
      "\n",
      "bestTest = 0.1406773843\n",
      "bestIteration = 1210\n",
      "\n",
      "Shrink model to first 1211 iterations.\n",
      "(3706, 208)\n",
      "Learning rate set to 0.016085\n",
      "0:\tlearn: 0.6692800\ttest: 0.6692538\tbest: 0.6692538 (0)\ttotal: 21.4ms\tremaining: 3m 34s\n",
      "150:\tlearn: 0.1376506\ttest: 0.1486546\tbest: 0.1486546 (150)\ttotal: 21.3s\tremaining: 23m 11s\n",
      "300:\tlearn: 0.1209593\ttest: 0.1407128\tbest: 0.1407128 (300)\ttotal: 49.2s\tremaining: 26m 26s\n",
      "450:\tlearn: 0.1132260\ttest: 0.1383384\tbest: 0.1383384 (450)\ttotal: 1m 15s\tremaining: 26m 41s\n",
      "600:\tlearn: 0.1064306\ttest: 0.1363057\tbest: 0.1363057 (600)\ttotal: 1m 47s\tremaining: 27m 58s\n",
      "750:\tlearn: 0.1002732\ttest: 0.1355419\tbest: 0.1355419 (750)\ttotal: 2m 23s\tremaining: 29m 21s\n",
      "900:\tlearn: 0.0934065\ttest: 0.1353389\tbest: 0.1353389 (900)\ttotal: 2m 59s\tremaining: 30m 8s\n",
      "1050:\tlearn: 0.0890286\ttest: 0.1351573\tbest: 0.1350707 (980)\ttotal: 3m 33s\tremaining: 30m 16s\n",
      "1200:\tlearn: 0.0831471\ttest: 0.1354281\tbest: 0.1350707 (980)\ttotal: 4m 8s\tremaining: 30m 18s\n",
      "Stopped by overfitting detector  (220 iterations wait)\n",
      "\n",
      "bestTest = 0.1350707119\n",
      "bestIteration = 980\n",
      "\n",
      "Shrink model to first 981 iterations.\n",
      "[0.03436669 0.03255062 0.45424156 ... 0.01079954 0.02470668 0.0770116 ]\n",
      "mean Logloss 0.13571172043217042\n"
     ]
    }
   ],
   "source": [
    "n_splits = 3\n",
    "\n",
    "clfs = []\n",
    "\n",
    "fd_copy = pd.DataFrame.copy(full_data)\n",
    "for feature in filtered_features:\n",
    "    fd_copy[feature] = full_data[feature].apply(lambda x: str(x))\n",
    "test_copy = pd.DataFrame.copy(test_data)\n",
    "for feature in filtered_features:\n",
    "    test_copy[feature] = test_data[feature].apply(lambda x: str(x))\n",
    "X = fd_copy[filtered_features + ['kfold']]\n",
    "y = full_data[['target', 'kfold']]\n",
    "\n",
    "# параметры валидации, обучение будет идти на 6 X n_splits фолдах\n",
    "\n",
    "kFold_random_state = [42]# , 666, 228, 777, 2021, 75]\n",
    "N = len(kFold_random_state)*n_splits\n",
    "\n",
    "for kfold in range(n_splits):\n",
    "    \n",
    "    X_train, X_test = X[X.kfold!=kfold].drop('kfold', axis=1), X[X.kfold==kfold].drop('kfold', axis=1)\n",
    "    y_train, y_test = y[y.kfold!=kfold].drop('kfold', axis=1), y[y.kfold==kfold].drop('kfold', axis=1)\n",
    "    print(X_train.shape)\n",
    "    clf = CatBoostClassifier(iterations = 10000,\n",
    "                          loss_function = 'Logloss', #eval_metric = 'F1', #'AUC:hints=skip_train~false',\n",
    "                          cat_features = filtered_features,\n",
    "                          random_seed=42,                          \n",
    "                          # 'learning_rate': 0.05953207713558619,\n",
    "                          # colsample_bylevel =  0.09874152157026818,\n",
    "                          # subsample = 0.9563761143682146,\n",
    "                          # l2_leaf_reg = 9.178962968420354,\n",
    "                          # 'random_strength': 2.4354466502188408,\n",
    "#                           min_data_in_leaf = 243,\n",
    "#                           max_bin = 187,\n",
    "                          task_type='CPU', #auto_class_weights = 'SqrtBalanced',\n",
    "                          early_stopping_rounds=200 + kfold*10 )\n",
    "    clfs.append(clf)\n",
    "\n",
    "    clf.fit(X_train, y_train, eval_set=(X_test, y_test),\n",
    "            verbose = 150, use_best_model = True, plot = False)\n",
    "        \n",
    "        \n",
    "assert len(clfs) == N\n",
    "\n",
    "# массив для записи финального результата\n",
    "y_pred = np.zeros((test_data.shape[0],))\n",
    "scores = []\n",
    "for clf in clfs:\n",
    "    y_pred += clf.predict_proba(test_copy[filtered_features])[:,1]\n",
    "    scores.append(clf.best_score_['validation']['Logloss'])\n",
    "y_pred /= N\n",
    "print(y_pred)\n",
    "print('mean Logloss', np.mean(scores))"
   ]
  },
  {
   "cell_type": "code",
   "execution_count": 52,
   "id": "709714bb",
   "metadata": {},
   "outputs": [],
   "source": [
    "# y_pred[y_pred >= 0.1] = True\n",
    "y = y_pred > 0.1"
   ]
  },
  {
   "cell_type": "code",
   "execution_count": 53,
   "id": "f6da9cf7",
   "metadata": {},
   "outputs": [],
   "source": [
    "for n, clf in enumerate(clfs):\n",
    "    clf.save_model(\"catboost_model_{}_m\".format(n))\n",
    "# from_file = CatBoostClassifier()\n",
    "# from_file.load_model(\"model\")"
   ]
  },
  {
   "cell_type": "markdown",
   "id": "faa24781",
   "metadata": {},
   "source": [
    "## Make Submission"
   ]
  },
  {
   "cell_type": "code",
   "execution_count": 54,
   "id": "8861db48",
   "metadata": {},
   "outputs": [
    {
     "ename": "AxisError",
     "evalue": "axis 1 is out of bounds for array of dimension 1",
     "output_type": "error",
     "traceback": [
      "\u001b[0;31m---------------------------------------------------------------------------\u001b[0m",
      "\u001b[0;31mAxisError\u001b[0m                                 Traceback (most recent call last)",
      "\u001b[0;32m/scratch/gsergei/ipykernel_72642/4092128918.py\u001b[0m in \u001b[0;36m<module>\u001b[0;34m\u001b[0m\n\u001b[1;32m      2\u001b[0m \u001b[0mpred\u001b[0m \u001b[0;34m=\u001b[0m \u001b[0my_pred\u001b[0m\u001b[0;34m\u001b[0m\u001b[0;34m\u001b[0m\u001b[0m\n\u001b[1;32m      3\u001b[0m \u001b[0;31m# pred = (pred > 0.35).astype(int)\u001b[0m\u001b[0;34m\u001b[0m\u001b[0;34m\u001b[0m\u001b[0;34m\u001b[0m\u001b[0m\n\u001b[0;32m----> 4\u001b[0;31m \u001b[0mres\u001b[0m \u001b[0;34m=\u001b[0m \u001b[0mnp\u001b[0m\u001b[0;34m.\u001b[0m\u001b[0margmax\u001b[0m\u001b[0;34m(\u001b[0m\u001b[0mpred\u001b[0m\u001b[0;34m,\u001b[0m \u001b[0maxis\u001b[0m\u001b[0;34m=\u001b[0m\u001b[0;36m1\u001b[0m\u001b[0;34m)\u001b[0m\u001b[0;34m.\u001b[0m\u001b[0mastype\u001b[0m\u001b[0;34m(\u001b[0m\u001b[0mint\u001b[0m\u001b[0;34m)\u001b[0m\u001b[0;34m\u001b[0m\u001b[0;34m\u001b[0m\u001b[0m\n\u001b[0m\u001b[1;32m      5\u001b[0m \u001b[0;34m\u001b[0m\u001b[0m\n\u001b[1;32m      6\u001b[0m \u001b[0;32massert\u001b[0m \u001b[0mpred\u001b[0m\u001b[0;34m.\u001b[0m\u001b[0mshape\u001b[0m\u001b[0;34m[\u001b[0m\u001b[0;36m0\u001b[0m\u001b[0;34m]\u001b[0m \u001b[0;34m==\u001b[0m \u001b[0mlen\u001b[0m\u001b[0;34m(\u001b[0m\u001b[0msample\u001b[0m\u001b[0;34m)\u001b[0m\u001b[0;34m\u001b[0m\u001b[0;34m\u001b[0m\u001b[0m\n",
      "\u001b[0;32m<__array_function__ internals>\u001b[0m in \u001b[0;36margmax\u001b[0;34m(*args, **kwargs)\u001b[0m\n",
      "\u001b[0;32m/scratch/gsergei/anaconda3/envs/challenge_22feb_cov19/lib/python3.7/site-packages/numpy/core/fromnumeric.py\u001b[0m in \u001b[0;36margmax\u001b[0;34m(a, axis, out)\u001b[0m\n\u001b[1;32m   1186\u001b[0m \u001b[0;34m\u001b[0m\u001b[0m\n\u001b[1;32m   1187\u001b[0m     \"\"\"\n\u001b[0;32m-> 1188\u001b[0;31m     \u001b[0;32mreturn\u001b[0m \u001b[0m_wrapfunc\u001b[0m\u001b[0;34m(\u001b[0m\u001b[0ma\u001b[0m\u001b[0;34m,\u001b[0m \u001b[0;34m'argmax'\u001b[0m\u001b[0;34m,\u001b[0m \u001b[0maxis\u001b[0m\u001b[0;34m=\u001b[0m\u001b[0maxis\u001b[0m\u001b[0;34m,\u001b[0m \u001b[0mout\u001b[0m\u001b[0;34m=\u001b[0m\u001b[0mout\u001b[0m\u001b[0;34m)\u001b[0m\u001b[0;34m\u001b[0m\u001b[0;34m\u001b[0m\u001b[0m\n\u001b[0m\u001b[1;32m   1189\u001b[0m \u001b[0;34m\u001b[0m\u001b[0m\n\u001b[1;32m   1190\u001b[0m \u001b[0;34m\u001b[0m\u001b[0m\n",
      "\u001b[0;32m/scratch/gsergei/anaconda3/envs/challenge_22feb_cov19/lib/python3.7/site-packages/numpy/core/fromnumeric.py\u001b[0m in \u001b[0;36m_wrapfunc\u001b[0;34m(obj, method, *args, **kwds)\u001b[0m\n\u001b[1;32m     56\u001b[0m \u001b[0;34m\u001b[0m\u001b[0m\n\u001b[1;32m     57\u001b[0m     \u001b[0;32mtry\u001b[0m\u001b[0;34m:\u001b[0m\u001b[0;34m\u001b[0m\u001b[0;34m\u001b[0m\u001b[0m\n\u001b[0;32m---> 58\u001b[0;31m         \u001b[0;32mreturn\u001b[0m \u001b[0mbound\u001b[0m\u001b[0;34m(\u001b[0m\u001b[0;34m*\u001b[0m\u001b[0margs\u001b[0m\u001b[0;34m,\u001b[0m \u001b[0;34m**\u001b[0m\u001b[0mkwds\u001b[0m\u001b[0;34m)\u001b[0m\u001b[0;34m\u001b[0m\u001b[0;34m\u001b[0m\u001b[0m\n\u001b[0m\u001b[1;32m     59\u001b[0m     \u001b[0;32mexcept\u001b[0m \u001b[0mTypeError\u001b[0m\u001b[0;34m:\u001b[0m\u001b[0;34m\u001b[0m\u001b[0;34m\u001b[0m\u001b[0m\n\u001b[1;32m     60\u001b[0m         \u001b[0;31m# A TypeError occurs if the object does have such a method in its\u001b[0m\u001b[0;34m\u001b[0m\u001b[0;34m\u001b[0m\u001b[0;34m\u001b[0m\u001b[0m\n",
      "\u001b[0;31mAxisError\u001b[0m: axis 1 is out of bounds for array of dimension 1"
     ]
    }
   ],
   "source": [
    "sample = pd.read_csv('Task/test.csv')\n",
    "pred = y_pred\n",
    "# pred = (pred > 0.35).astype(int)\n",
    "res = np.argmax(pred, axis=1).astype(int)\n",
    "\n",
    "assert pred.shape[0] == len(sample)\n",
    "pred = pd.DataFrame(data={'target':res}, index=sample['Smiles'])"
   ]
  },
  {
   "cell_type": "code",
   "execution_count": 55,
   "id": "c198a1bc",
   "metadata": {},
   "outputs": [],
   "source": [
    "sample['Active'] = y\n",
    "sample[['Smiles', 'Active']].to_csv('submission_4.csv', index=False)\n",
    "# sample[['review_id', 'target']].head(15)"
   ]
  },
  {
   "cell_type": "markdown",
   "id": "a7ce73d9",
   "metadata": {},
   "source": [
    "# Feature Importance"
   ]
  },
  {
   "cell_type": "code",
   "execution_count": 173,
   "id": "32b9e0ff",
   "metadata": {},
   "outputs": [],
   "source": [
    "import seaborn as sns"
   ]
  },
  {
   "cell_type": "code",
   "execution_count": 174,
   "id": "5a1f27f0",
   "metadata": {},
   "outputs": [
    {
     "name": "stdout",
     "output_type": "stream",
     "text": [
      "Всего признаков 12 Усреднее по 3-ти моделям: \n",
      "На график нанесено топ-70 признаков\n"
     ]
    },
    {
     "data": {
      "image/png": "[encoded data removed]",
      "text/plain": [
       "<Figure size 720x172.8 with 1 Axes>"
      ]
     },
     "metadata": {
      "needs_background": "light"
     },
     "output_type": "display_data"
    }
   ],
   "source": [
    "def plot_importance(data, best_model, height, top_n=50):\n",
    "    \n",
    "    fi = pd.DataFrame(index = data.columns, columns = [])\n",
    "    for i, m in enumerate(best_model):\n",
    "        fi[f'm_{i}'] = m.get_feature_importance()\n",
    "\n",
    "    fi = fi.stack().reset_index().iloc[:,[0, 2]]#.to_frame()\n",
    "    fi.columns = ['feature','importance']\n",
    "\n",
    "    cols_ord = list(fi.groupby('feature')['importance'].mean().sort_values(ascending=False).index)\n",
    "    print('Всего признаков', len(cols_ord), 'Усреднее по {}-ти моделям: '.format(len(best_model)) )\n",
    "    cols_ord = cols_ord[:top_n]\n",
    "    \n",
    "    fi = fi[fi['feature'].isin(cols_ord)]\n",
    "    \n",
    "    plt.figure(figsize=(10, len(cols_ord)*height))\n",
    "    b = sns.boxplot(data=fi, y='feature', x='importance', orient='h', order=cols_ord)\n",
    "    \n",
    "    print('На график нанесено топ-{} признаков'.format(top_n))\n",
    "    return fi.groupby(by =['feature'], as_index=False)['importance'].mean().sort_values(by='importance', ascending=False)\n",
    "\n",
    "df_feats_imp = plot_importance(full_data[filtered_features], clfs, 0.20, top_n=70)"
   ]
  },
  {
   "cell_type": "code",
   "execution_count": null,
   "id": "0278b980",
   "metadata": {},
   "outputs": [],
   "source": []
  }
 ],
 "metadata": {
  "kernelspec": {
   "display_name": "Python 3",
   "language": "python",
   "name": "python3"
  },
  "language_info": {
   "codemirror_mode": {
    "name": "ipython",
    "version": 3
   },
   "file_extension": ".py",
   "mimetype": "text/x-python",
   "name": "python",
   "nbconvert_exporter": "python",
   "pygments_lexer": "ipython3",
   "version": "3.7.11"
  },
  "toc": {
   "base_numbering": 1,
   "nav_menu": {},
   "number_sections": true,
   "sideBar": true,
   "skip_h1_title": false,
   "title_cell": "Table of Contents",
   "title_sidebar": "Contents",
   "toc_cell": false,
   "toc_position": {},
   "toc_section_display": true,
   "toc_window_display": false
  }
 },
 "nbformat": 4,
 "nbformat_minor": 5
}
